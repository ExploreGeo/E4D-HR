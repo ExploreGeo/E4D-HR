{
 "cells": [
  {
   "cell_type": "markdown",
   "metadata": {},
   "source": [
    "# ER Forward Modeling - Numerical solution accuracy\n",
    "## Run mode: ERT2    Two Buried Blocks\n",
    "\n",
    "This example build on the two_blocks example in /mode_1/two_blocks and investigates numeric solution accuracy for the mesh by producing both the analytic and numeric solutions to the homogeneous halfspace problem.\n",
    "\n",
    "The steps followed below are:\n",
    "1) Create the mesh\n",
    "2) Create e4d.inp and solve for the analytic solution\n",
    "3) Rename two_blocks.sig.srv to two_blocks_analytic.srv\n",
    "4) Create e4d.inp and solve the numeric solution\n",
    "\n",
    "Compare the last two columns in the file two_blocks.dpd which contains the analytic solution alongside the numerical solution.\n"
   ]
  },
  {
   "cell_type": "code",
   "execution_count": 23,
   "metadata": {},
   "outputs": [
    {
     "name": "stdout",
     "output_type": "stream",
     "text": [
      "Mesh build okay\n",
      "Analytic solution written!\n",
      "Simulated file written!\n",
      "The last 2 columns of two_blocks.dpd contain the analytic versus numerical solution\n"
     ]
    }
   ],
   "source": [
    "# 1) Create the mesh\n",
    "# two_blocks.cfg is defined as the mesh configuation file in e4d.inp\n",
    "import subprocess\n",
    "import os\n",
    "import sys\n",
    "\n",
    "# create e4d.inp file to build the mesh\n",
    "pre='two_blocks'\n",
    "\n",
    "fileN='e4d.inp'\n",
    "f1=open(fileN, 'w')\n",
    "f1.write(\"ERT1\\n\")    # run mode ERT1\n",
    "f1.write(pre+\".cfg\\n\") # mesh configuration file\n",
    "f1.close()\n",
    "\n",
    "cmd='mpirun -np 1 e4d' # assumes mpirun and e4d are in your path\n",
    "result = subprocess.run(cmd, shell=True,stdout=subprocess.PIPE)\n",
    "output=result.stdout.decode(\"utf-8\") \n",
    "\n",
    "lines=output.split(sep='\\n')\n",
    "for line in lines:\n",
    "        if 'Finished build' in line:\n",
    "            print ('Mesh build okay')\n",
    "   \n",
    "        \n",
    "# 2) create e4d.inp file for the analytic solution\n",
    "fileN='e4d.inp'\n",
    "f1=open(fileN, 'w')\n",
    "f1.write(\"analytic\\n\")   # run mode 'analytic'\n",
    "f1.write(pre+\".1.ele\\n\") # mesh element file       \n",
    "f1.write(pre+\".srv\\n\")    # survey file\n",
    "f1.write(pre+\".sig\\n\")   # conductivity file (homogeneous)\n",
    "f1.write(pre+\".out\\n\")   # output option file\n",
    "f1.close()\n",
    "\n",
    "cmd='mpirun -np 1 e4d' # assumes mpirun and e4d are in your path\n",
    "result = subprocess.run(cmd, shell=True,stdout=subprocess.PIPE)\n",
    "output=result.stdout.decode(\"utf-8\") \n",
    "\n",
    "lines=output.split(sep='\\n')\n",
    "for line in lines:\n",
    "       # print (line)\n",
    "        if 'Writing analytic survey' in line:\n",
    "            print ('Analytic solution written!')\n",
    "            \n",
    "# 2) Rename two_blocks.sig.srv to two_blocks_analytic.srv\n",
    "newf='two_blocks_analytic.srv'\n",
    "cmd= ['mv two_blocks.sig.srv '+newf]\n",
    "p = subprocess.Popen(cmd, shell=True) \n",
    "\n",
    "#4) Create e4d.inp and solve the numeric solution\n",
    "fileN='e4d.inp'\n",
    "f1=open(fileN, 'w')\n",
    "f1.write(\"ERT2\\n\")            # run mode ERT2\n",
    "f1.write(pre+\".1.ele\\n\")      # mesh element file \n",
    "f1.write(newf+\"\\n\")           # survey file - use analytic survey file from analytic solution\n",
    "f1.write(pre+\".sig\\n\")        # conductivity file (homogeneous)\n",
    "f1.write(pre+\".out\\n\")        # output options, produces a potential file\n",
    "f1.close()\n",
    "\n",
    "cmd='mpirun -np 2 e4d' # assumes mpirun and e4d are in your path\n",
    "result = subprocess.run(cmd, shell=True,stdout=subprocess.PIPE)\n",
    "output=result.stdout.decode(\"utf-8\") \n",
    "\n",
    "lines=output.split(sep='\\n')\n",
    "for line in lines:\n",
    "        #print (line)\n",
    "        if 'WRITING SIMULATED SURVEY FILE' in line:\n",
    "            print ('Simulated file written!')\n",
    "            print ('The last 2 columns of two_blocks.dpd contain the analytic versus numerical solution')\n"
   ]
  },
  {
   "cell_type": "code",
   "execution_count": null,
   "metadata": {},
   "outputs": [],
   "source": []
  }
 ],
 "metadata": {
  "kernelspec": {
   "display_name": "Python 3",
   "language": "python",
   "name": "python3"
  },
  "language_info": {
   "codemirror_mode": {
    "name": "ipython",
    "version": 3
   },
   "file_extension": ".py",
   "mimetype": "text/x-python",
   "name": "python",
   "nbconvert_exporter": "python",
   "pygments_lexer": "ipython3",
   "version": "3.7.3"
  }
 },
 "nbformat": 4,
 "nbformat_minor": 2
}
