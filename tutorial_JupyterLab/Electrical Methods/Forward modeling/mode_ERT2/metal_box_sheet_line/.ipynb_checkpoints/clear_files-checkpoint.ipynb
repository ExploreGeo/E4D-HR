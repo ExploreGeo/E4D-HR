{
 "cells": [
  {
   "cell_type": "code",
   "execution_count": 3,
   "metadata": {},
   "outputs": [
    {
     "data": {
      "text/plain": [
       "CompletedProcess(args='rm run_time.txt', returncode=1, stdout=b'')"
      ]
     },
     "execution_count": 3,
     "metadata": {},
     "output_type": "execute_result"
    }
   ],
   "source": [
    "import subprocess\n",
    "\n",
    "pre='mbsl'\n",
    "cmd='rm '+ pre+ '.1*' \n",
    "subprocess.run(cmd, shell=True,stdout=subprocess.PIPE)\n",
    "cmd='rm e4d.*' \n",
    "subprocess.run(cmd, shell=True,stdout=subprocess.PIPE)\n",
    "cmd='rm mesh_build.log' \n",
    "subprocess.run(cmd, shell=True,stdout=subprocess.PIPE)\n",
    "cmd='rm ' + pre+ '.xmf' \n",
    "subprocess.run(cmd, shell=True,stdout=subprocess.PIPE)\n",
    "cmd='rm '+pre+'.h5' \n",
    "subprocess.run(cmd, shell=True,stdout=subprocess.PIPE)\n",
    "cmd='rm '+pre+'.trn' \n",
    "subprocess.run(cmd, shell=True,stdout=subprocess.PIPE)\n",
    "cmd='rm '+pre+'.sig.srv' \n",
    "subprocess.run(cmd, shell=True,stdout=subprocess.PIPE)\n",
    "cmd='rm '+pre+'.dpd' \n",
    "subprocess.run(cmd, shell=True,stdout=subprocess.PIPE)\n",
    "cmd='rm '+pre+'.sig' \n",
    "subprocess.run(cmd, shell=True,stdout=subprocess.PIPE)\n",
    "cmd='rm surface*' \n",
    "subprocess.run(cmd, shell=True,stdout=subprocess.PIPE)\n",
    "cmd='rm *potential*' \n",
    "subprocess.run(cmd, shell=True,stdout=subprocess.PIPE)\n",
    "cmd='rm *poly*' \n",
    "subprocess.run(cmd, shell=True,stdout=subprocess.PIPE)\n",
    "cmd='rm run_time.txt' \n",
    "subprocess.run(cmd, shell=True,stdout=subprocess.PIPE)"
   ]
  },
  {
   "cell_type": "code",
   "execution_count": null,
   "metadata": {},
   "outputs": [],
   "source": []
  }
 ],
 "metadata": {
  "kernelspec": {
   "display_name": "Python 3",
   "language": "python",
   "name": "python3"
  },
  "language_info": {
   "codemirror_mode": {
    "name": "ipython",
    "version": 3
   },
   "file_extension": ".py",
   "mimetype": "text/x-python",
   "name": "python",
   "nbconvert_exporter": "python",
   "pygments_lexer": "ipython3",
   "version": "3.7.3"
  }
 },
 "nbformat": 4,
 "nbformat_minor": 2
}
