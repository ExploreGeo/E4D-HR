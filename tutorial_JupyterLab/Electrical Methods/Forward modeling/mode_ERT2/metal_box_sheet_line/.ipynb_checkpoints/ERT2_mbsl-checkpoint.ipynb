{
 "cells": [
  {
   "cell_type": "markdown",
   "metadata": {},
   "source": [
    "# ER Forward Modeling - Simulating a survey and creating a potential field file\n",
    "## Run mode: ERT2    Buried Metallic Box, Sheet and Line\n",
    "\n",
    "### NOTE:  A license for the IMI E4D module must be obtained to use this feature.\n",
    "\n",
    "This example build on the mbsl example in /mode_1/mbsl\n",
    "\n",
    "To enable each of the three infinite conductivity structures to be modeled by E4D, we need to append one electrode for each structure to the end of the electrode block of the survey file.  This is required, regardless of whether or not each infinite conductivity boundary is used as a current source, sink, or potential measurement electrode. If no electrode is specified for an infinite conductivity boundary, that boundary will be ignored by E4D, meaning that 3D boundaries will be perfectly resistive (zero flux condition through the boundary), and 1D and 2D boundaries will have no special conditions imposed.  \n",
    "\n",
    "Once the infinite conductivity electrodes have been added to the electrode block of the survey file, they may be used as current or potential electrodes just as any other electrode. Measurements 2071 and 2072 show two examples. In measurement 2071 the box (electrode 49) is used as the current source and the sheet (electrode 50) is used as the current sink. The line electrode (electrode 51) is used as the positive potential electrode, and electrode 1 is used as the negative potential electrode.  In measurement 2072, electrode 1 is used as the current source and the line (electrode 51) is used as the current sink;  electrodes 1 and 2 are used as the positive and negative potential electrodes, respectively.    \n",
    "\n",
    "The steps followed below are:   \n",
    "1) Create the mesh  \n",
    "2) Create e4d.inp and solve for the numeric solution  \n",
    "\n",
    "The output options file creates potential files for measurement 2071 and 2072 to be viewed in ViSit."
   ]
  },
  {
   "cell_type": "code",
   "execution_count": 1,
   "metadata": {},
   "outputs": [
    {
     "name": "stdout",
     "output_type": "stream",
     "text": [
      "Mesh build okay\n",
      "Simulated file written!\n"
     ]
    }
   ],
   "source": [
    "# 1) Create the mesh\n",
    "# mbsl.cfg is defined as the mesh configuation file in e4d.inp\n",
    "import subprocess\n",
    "import os\n",
    "import sys\n",
    "\n",
    "# 1) create e4d.inp file to build the mesh\n",
    "pre='mbsl'\n",
    "\n",
    "fileN='e4d.inp'\n",
    "f1=open(fileN, 'w')\n",
    "f1.write(\"ERT1\\n\")    # run mode ERT1\n",
    "f1.write(pre+\".cfg\\n\") # mesh configuration file\n",
    "f1.close()\n",
    "\n",
    "\n",
    "cmd='mpirun -np 1 e4d' # assumes mpirun and e4d are in your path\n",
    "result = subprocess.run(cmd, shell=True,stdout=subprocess.PIPE)\n",
    "output=result.stdout.decode(\"utf-8\") \n",
    "\n",
    "lines=output.split(sep='\\n')\n",
    "cont=False\n",
    "for line in lines:\n",
    "        #print (line)\n",
    "        if 'Finished build' in line:\n",
    "            print ('Mesh build okay')\n",
    "            cont=True\n",
    "   \n",
    "\n",
    "# 2) Create e4d.inp and solve the numeric solution\n",
    "if cont==True:\n",
    "    fileN='e4d.inp'\n",
    "    f1=open(fileN, 'w')\n",
    "    f1.write(\"ERT2\\n\")            # run mode ERT2\n",
    "    f1.write(pre+\".1.ele\\n\")      # mesh element file \n",
    "    f1.write(pre+\".srv\\n\")           # survey file - use analytic survey file from analytic solution\n",
    "    f1.write(pre+\".sig\\n\")        # conductivity file\n",
    "    f1.write(pre+\".out\\n\")        # output options, produces a potential file\n",
    "    f1.close()\n",
    "\n",
    "    cmd='mpirun -np 10 e4d' # assumes mpirun and e4d are in your path\n",
    "    result = subprocess.run(cmd, shell=True,stdout=subprocess.PIPE)\n",
    "    output=result.stdout.decode(\"utf-8\") \n",
    "\n",
    "    lines=output.split(sep='\\n')\n",
    "    for line in lines:\n",
    "            if 'WRITING SIMULATED SURVEY FILE' in line:\n",
    "                print ('Simulated file written!')\n",
    "                \n"
   ]
  },
  {
   "cell_type": "code",
   "execution_count": 2,
   "metadata": {},
   "outputs": [
    {
     "name": "stdout",
     "output_type": "stream",
     "text": [
      "Creating new xmf and h5 file.....\n",
      "Reading mbsl.1.node\n",
      "Reading mbsl.1.ele\n",
      "THE NUMBER OF NODES IS:17012\n",
      "THE NUMBER OF ELEMENTS IS:96269\n",
      "THE NUMBER OF ELEMENT ZONES IS:2\n",
      "Creating pot2072.h5 file\n",
      "Recording potential file potential.2072 at time stamp:0\n",
      "Done writing pot2072.h5 file\n",
      "Finished build of pot2072.xmf file\n",
      "\n"
     ]
    }
   ],
   "source": [
    "# Create potential field visualization files\n",
    "\n",
    "cmd='px -f mbsl potential.2071 pot2071' # assumes px is in your path\n",
    "result = subprocess.run(cmd, shell=True,stdout=subprocess.PIPE)\n",
    "\n",
    "cmd='px -f mbsl potential.2072 pot2072' # assumes px is in your path\n",
    "result = subprocess.run(cmd, shell=True,stdout=subprocess.PIPE)\n",
    "\n",
    "output=result.stdout.decode(\"utf-8\") \n",
    "\n",
    "lines=output.split(sep='\\n')\n",
    "for line in lines:\n",
    "        print (line)\n",
    "\n",
    "cmd='mv pot2071.* visit/.'\n",
    "result = subprocess.run(cmd, shell=True,stdout=subprocess.PIPE)\n",
    "\n",
    "cmd='mv pot2072* visit/.' \n",
    "result = subprocess.run(cmd, shell=True,stdout=subprocess.PIPE)\n",
    "\n"
   ]
  },
  {
   "cell_type": "code",
   "execution_count": 19,
   "metadata": {},
   "outputs": [],
   "source": [
    "# view the files in visit\n",
    "import os\n",
    "import subprocess\n",
    "\n",
    "directory=os.getcwd()\n",
    "if '/visit' not in directory:\n",
    "    os.chdir('visit')\n",
    "\n",
    "# get visit full path\n",
    "fn='../../../../../Visit_fullpathname'\n",
    "\n",
    "f= open(fn,\"r\")\n",
    "dir_Visit = f.readline().strip() \n",
    "print (dir_Visit)\n",
    "subprocess.run([dir_Visit+'visit' , 'cli', '-s', 'script.py'])\n",
    "\n",
    "os.chdir('../')"
   ]
  },
  {
   "cell_type": "code",
   "execution_count": null,
   "metadata": {},
   "outputs": [],
   "source": []
  }
 ],
 "metadata": {
  "kernelspec": {
   "display_name": "Python 3",
   "language": "python",
   "name": "python3"
  },
  "language_info": {
   "codemirror_mode": {
    "name": "ipython",
    "version": 3
   },
   "file_extension": ".py",
   "mimetype": "text/x-python",
   "name": "python",
   "nbconvert_exporter": "python",
   "pygments_lexer": "ipython3",
   "version": "3.7.3"
  }
 },
 "nbformat": 4,
 "nbformat_minor": 2
}
