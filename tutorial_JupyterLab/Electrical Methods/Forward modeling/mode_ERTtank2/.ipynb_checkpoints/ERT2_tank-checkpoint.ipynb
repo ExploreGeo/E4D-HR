{
 "cells": [
  {
   "cell_type": "markdown",
   "metadata": {},
   "source": [
    "# ER Tank Forward Modeling - Simulating a survey and creating a potential field file\n",
    "## Run mode: ERTTank2    \n",
    "\n",
    "This example build on the two_blocks example in /mode_ERT1tank/\n",
    "\n",
    "The steps followed below are:   \n",
    "1) Create the mesh  \n",
    "2) Create e4d.inp and run the forward model  \n",
    "\n",
    "The output options file creates a potential file for measurement 1 to be viewed in ViSit."
   ]
  },
  {
   "cell_type": "code",
   "execution_count": null,
   "metadata": {},
   "outputs": [],
   "source": [
    "# 1) Create the mesh\n",
    "# tank.cfg is defined as the mesh configuation file in e4d.inp\n",
    "import subprocess\n",
    "import os\n",
    "import sys\n",
    "\n",
    "# create e4d.inp file to build the mesh\n",
    "pre='tank'\n",
    "\n",
    "fileN='e4d.inp'\n",
    "f1=open(fileN, 'w')\n",
    "f1.write(\"ERTTank1\\n\")    # run mode ERT1\n",
    "f1.write(pre+\".cfg\\n\") # mesh configuration file\n",
    "f1.close()\n",
    "\n",
    "\n",
    "cmd='mpirun -np 1 e4d' # assumes mpirun and e4d are in your path\n",
    "result = subprocess.run(cmd, shell=True,stdout=subprocess.PIPE)\n",
    "output=result.stdout.decode(\"utf-8\") \n",
    "\n",
    "lines=output.split(sep='\\n')\n",
    "cont=False\n",
    "for line in lines:\n",
    "        #print (line)\n",
    "        if 'Finished build' in line:\n",
    "            print ('Mesh build okay')\n",
    "            cont=True\n",
    "\n",
    "\n",
    "print (cont)\n",
    "   \n",
    "# 2) Create e4d.inp and run the forward model \n",
    "if cont==True:\n",
    "    fileN='e4d.inp'\n",
    "    f1=open(fileN, 'w')\n",
    "    f1.write(\"ERTTank2\\n\")            # run mode ERT2\n",
    "    f1.write(pre+\".1.ele\\n\")      # mesh element file \n",
    "    f1.write(pre+\".srv\\n\")           # survey file - use analytic survey file from analytic solution\n",
    "    f1.write(pre+\".sig\\n\")        # conductivity file\n",
    "    f1.write(pre+\".out\\n\")        # output options, produces a potential file\n",
    "    f1.close()\n",
    "\n",
    "    cmd='mpirun -np 10 e4d' # assumes mpirun and e4d are in your path\n",
    "    result = subprocess.run(cmd, shell=True,stdout=subprocess.PIPE)\n",
    "    output=result.stdout.decode(\"utf-8\") \n",
    "\n",
    "    lines=output.split(sep='\\n')\n",
    "    for line in lines:\n",
    "            #print (line)\n",
    "            if 'WRITING SIMULATED SURVEY FILE' in line:\n",
    "                print ('Simulated file written!')\n",
    "                \n"
   ]
  },
  {
   "cell_type": "code",
   "execution_count": null,
   "metadata": {},
   "outputs": [],
   "source": [
    "# Create potential field visualization files\n",
    "\n",
    "cmd='px -f tank potential.1 pot1_tank' # assumes px is in your path\n",
    "result = subprocess.run(cmd, shell=True,stdout=subprocess.PIPE)\n",
    "\n",
    "\n",
    "cmd='mv pot1_tank.xmf visit/' # assumes px is in your path\n",
    "result = subprocess.run(cmd, shell=True,stdout=subprocess.PIPE)\n",
    "\n",
    "cmd='mv pot1_tank.h5 visit/.' # assumes px is in your path\n",
    "result = subprocess.run(cmd, shell=True,stdout=subprocess.PIPE)\n",
    "\n"
   ]
  },
  {
   "cell_type": "code",
   "execution_count": 1,
   "metadata": {},
   "outputs": [
    {
     "ename": "FileNotFoundError",
     "evalue": "[Errno 2] No such file or directory: '../../../../../Visit_fullpathname'",
     "output_type": "error",
     "traceback": [
      "\u001b[0;31m---------------------------------------------------------------------------\u001b[0m",
      "\u001b[0;31mFileNotFoundError\u001b[0m                         Traceback (most recent call last)",
      "\u001b[0;32m<ipython-input-1-e6f083bb4225>\u001b[0m in \u001b[0;36m<module>\u001b[0;34m\u001b[0m\n\u001b[1;32m      8\u001b[0m \u001b[0mfn\u001b[0m\u001b[0;34m=\u001b[0m\u001b[0;34m'../../../../../Visit_fullpathname'\u001b[0m\u001b[0;34m\u001b[0m\u001b[0;34m\u001b[0m\u001b[0m\n\u001b[1;32m      9\u001b[0m \u001b[0;34m\u001b[0m\u001b[0m\n\u001b[0;32m---> 10\u001b[0;31m \u001b[0mf\u001b[0m\u001b[0;34m=\u001b[0m \u001b[0mopen\u001b[0m\u001b[0;34m(\u001b[0m\u001b[0mfn\u001b[0m\u001b[0;34m,\u001b[0m\u001b[0;34m\"r\"\u001b[0m\u001b[0;34m)\u001b[0m\u001b[0;34m\u001b[0m\u001b[0;34m\u001b[0m\u001b[0m\n\u001b[0m\u001b[1;32m     11\u001b[0m \u001b[0mdir_Visit\u001b[0m \u001b[0;34m=\u001b[0m \u001b[0mf\u001b[0m\u001b[0;34m.\u001b[0m\u001b[0mreadline\u001b[0m\u001b[0;34m(\u001b[0m\u001b[0;34m)\u001b[0m\u001b[0;34m.\u001b[0m\u001b[0mstrip\u001b[0m\u001b[0;34m(\u001b[0m\u001b[0;34m)\u001b[0m\u001b[0;34m\u001b[0m\u001b[0;34m\u001b[0m\u001b[0m\n\u001b[1;32m     12\u001b[0m \u001b[0mprint\u001b[0m \u001b[0;34m(\u001b[0m\u001b[0mdir_Visit\u001b[0m\u001b[0;34m)\u001b[0m\u001b[0;34m\u001b[0m\u001b[0;34m\u001b[0m\u001b[0m\n",
      "\u001b[0;31mFileNotFoundError\u001b[0m: [Errno 2] No such file or directory: '../../../../../Visit_fullpathname'"
     ]
    }
   ],
   "source": [
    "# view the files in visit\n",
    "import os\n",
    "import subprocess\n",
    "\n",
    "\n",
    "os.chdir('visit')\n",
    "# get visit full path\n",
    "fn='../../../../Visit_fullpathname'\n",
    "\n",
    "f= open(fn,\"r\")\n",
    "dir_Visit = f.readline().strip() \n",
    "print (dir_Visit)\n",
    "subprocess.run([dir_Visit+'visit' , 'cli', '-s', 'script.py'])\n",
    "\n",
    "\n",
    "      "
   ]
  },
  {
   "cell_type": "code",
   "execution_count": null,
   "metadata": {},
   "outputs": [],
   "source": []
  }
 ],
 "metadata": {
  "kernelspec": {
   "display_name": "Python 3",
   "language": "python",
   "name": "python3"
  },
  "language_info": {
   "codemirror_mode": {
    "name": "ipython",
    "version": 3
   },
   "file_extension": ".py",
   "mimetype": "text/x-python",
   "name": "python",
   "nbconvert_exporter": "python",
   "pygments_lexer": "ipython3",
   "version": "3.7.3"
  }
 },
 "nbformat": 4,
 "nbformat_minor": 2
}
