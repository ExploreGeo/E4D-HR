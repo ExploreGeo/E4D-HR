{
 "cells": [
  {
   "cell_type": "code",
   "execution_count": 2,
   "metadata": {},
   "outputs": [
    {
     "data": {
      "text/plain": [
       "CompletedProcess(args='rm baselinesp.*', returncode=0, stdout=b'')"
      ]
     },
     "execution_count": 2,
     "metadata": {},
     "output_type": "execute_result"
    }
   ],
   "source": [
    "import subprocess\n",
    "\n",
    "cmd='rm sigma.*' \n",
    "subprocess.run(cmd, shell=True,stdout=subprocess.PIPE)\n",
    "\n",
    "cmd='rm sp.1*' \n",
    "subprocess.run(cmd, shell=True,stdout=subprocess.PIPE)\n",
    "\n",
    "cmd='rm sp.trn' \n",
    "subprocess.run(cmd, shell=True,stdout=subprocess.PIPE)\n",
    "\n",
    "cmd='rm sp.dpd' \n",
    "subprocess.run(cmd, shell=True,stdout=subprocess.PIPE)\n",
    "\n",
    "cmd='rm sensitivity.txt' \n",
    "subprocess.run(cmd, shell=True,stdout=subprocess.PIPE)\n",
    "\n",
    "cmd='rm external_files.tmp' \n",
    "subprocess.run(cmd, shell=True,stdout=subprocess.PIPE)\n",
    "\n",
    "cmd='rm run_time.txt' \n",
    "subprocess.run(cmd, shell=True,stdout=subprocess.PIPE)\n",
    "\n",
    "cmd='rm jaco_build_sequence.txt' \n",
    "subprocess.run(cmd, shell=True,stdout=subprocess.PIPE)\n",
    "\n",
    "cmd='rm e4d.log' \n",
    "subprocess.run(cmd, shell=True,stdout=subprocess.PIPE)\n",
    "\n",
    "cmd='rm baselinesp.*' \n",
    "subprocess.run(cmd, shell=True,stdout=subprocess.PIPE)\n",
    "\n"
   ]
  },
  {
   "cell_type": "code",
   "execution_count": null,
   "metadata": {},
   "outputs": [],
   "source": []
  },
  {
   "cell_type": "code",
   "execution_count": null,
   "metadata": {},
   "outputs": [],
   "source": []
  },
  {
   "cell_type": "code",
   "execution_count": null,
   "metadata": {},
   "outputs": [],
   "source": []
  }
 ],
 "metadata": {
  "kernelspec": {
   "display_name": "Python 3",
   "language": "python",
   "name": "python3"
  },
  "language_info": {
   "codemirror_mode": {
    "name": "ipython",
    "version": 3
   },
   "file_extension": ".py",
   "mimetype": "text/x-python",
   "name": "python",
   "nbconvert_exporter": "python",
   "pygments_lexer": "ipython3",
   "version": "3.7.3"
  }
 },
 "nbformat": 4,
 "nbformat_minor": 2
}
