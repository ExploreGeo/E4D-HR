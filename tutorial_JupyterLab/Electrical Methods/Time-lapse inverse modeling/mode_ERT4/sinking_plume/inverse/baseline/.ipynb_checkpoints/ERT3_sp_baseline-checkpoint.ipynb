{
 "cells": [
  {
   "cell_type": "raw",
   "metadata": {},
   "source": [
    "# ER Inverse Modeling - Sinking Plume, Baseline Model\n",
    "## Run mode: ERT3    \n",
    "\n",
    "The steps followed below are:   \n",
    "1) Create the inverse modeling mesh  \n",
    "2) Run the baseline inverse model\n",
    "3) OPTIONAL:  Build the px file to view the inversion progress\n"
   ]
  },
  {
   "cell_type": "code",
   "execution_count": 1,
   "metadata": {},
   "outputs": [
    {
     "name": "stdout",
     "output_type": "stream",
     "text": [
      "Mesh build okay\n"
     ]
    }
   ],
   "source": [
    "# 1) Create the inverse modeling mesh\n",
    "\n",
    "## THIS IS PROVIDED IN mesh/sp.tar.gz\n",
    "\n",
    "import subprocess\n",
    "import os\n",
    "import sys\n",
    "\n",
    "os.chdir('../mesh')\n",
    "\n",
    "cmd='mpirun -np 1 e4d' # assumes mpirun and e4d are in your path\n",
    "result = subprocess.run(cmd, shell=True,stdout=subprocess.PIPE)\n",
    "output=result.stdout.decode(\"utf-8\") \n",
    "\n",
    "lines=output.split(sep='\\n')\n",
    "cont=False\n",
    "for line in lines:\n",
    "        #print (line)\n",
    "        if 'Finished build' in line:\n",
    "            print ('Mesh build okay')\n",
    "            cont=True\n",
    "\n",
    "# copy the mesh files to the main directory and remove mesh generation files\n",
    "cmd='mv sp.1* ../baseline/.'\n",
    "subprocess.run(cmd, shell=True,stdout=subprocess.PIPE)\n",
    "cmd='mv sp.trn ../baseline/.'\n",
    "subprocess.run(cmd, shell=True,stdout=subprocess.PIPE)\n",
    "\n",
    "#cmd=\"rm -v !('e4d.inp'|'sp.cfg') \"\n",
    "#subprocess.run(cmd, shell=True,stdout=subprocess.PIPE)\n",
    "cmd='rm surface.*'\n",
    "subprocess.run(cmd, shell=True,stdout=subprocess.PIPE)\n",
    "cmd='*.poly*'\n",
    "subprocess.run(cmd, shell=True,stdout=subprocess.PIPE)\n",
    "cmd='rm mesh_build.log'\n",
    "subprocess.run(cmd, shell=True,stdout=subprocess.PIPE)\n",
    "cmd='rm e4d.log'\n",
    "subprocess.run(cmd, shell=True,stdout=subprocess.PIPE)\n",
    "cmd='rm sp.sig'\n",
    "subprocess.run(cmd, shell=True,stdout=subprocess.PIPE)\n",
    "cmd='rm sp.h5'\n",
    "subprocess.run(cmd, shell=True,stdout=subprocess.PIPE)\n",
    "cmd='rm sp.xmf'\n",
    "subprocess.run(cmd, shell=True,stdout=subprocess.PIPE)\n",
    "cmd='rm *poly*'\n",
    "subprocess.run(cmd, shell=True,stdout=subprocess.PIPE)\n",
    "\n",
    "\n",
    "os.chdir('../baseline')"
   ]
  },
  {
   "cell_type": "code",
   "execution_count": 2,
   "metadata": {},
   "outputs": [],
   "source": [
    "#2) Run the baseline inversion\n",
    "\n",
    "# check e4d.log for progress \n",
    "## THIS IS PROVIDED IN results.tar.gz\n",
    "\n",
    "\n",
    "\n",
    "import subprocess\n",
    "\n",
    "cmd='/home/robi526/codes/e4d_dev/petsc/arch-linux-c-opt/bin/mpirun -np 20 e4d' # assumes mpirun and e4d are in your path\n",
    "result = subprocess.run(cmd, shell=True,stdout=subprocess.PIPE)\n",
    "output=result.stdout.decode(\"utf-8\") \n",
    "\n",
    "lines=output.split(sep='\\n')\n",
    "for line in lines:\n",
    "        #print (line)\n",
    "        if 'SOLUTION CONVERGED' in line:\n",
    "            print ('Inverse solution converged.  See e4d.log for details.')\n"
   ]
  },
  {
   "cell_type": "code",
   "execution_count": 3,
   "metadata": {},
   "outputs": [
    {
     "name": "stdout",
     "output_type": "stream",
     "text": [
      "Creating new xmf and h5 file.....\n",
      "Reading sp.1.node\n",
      "Reading sp.1.ele\n",
      "THE NUMBER OF NODES IS:16729\n",
      "THE NUMBER OF ELEMENTS IS:94664\n",
      "THE NUMBER OF ELEMENT ZONES IS:2\n",
      "Creating baselinesp.h5 file\n",
      "Recording conductivity file sigma.1 at time stamp:1\n",
      "Done writing baselinesp.h5 file\n",
      "Finished build of baselinesp.xmf file\n",
      "\n",
      "Creating new xmf and h5 file.....\n",
      "Reading sp.1.node\n",
      "Reading sp.1.ele\n",
      "THE NUMBER OF NODES IS:16729\n",
      "THE NUMBER OF ELEMENTS IS:94664\n",
      "THE NUMBER OF ELEMENT ZONES IS:2\n",
      "Creating baselinesp.h5 file\n",
      "Recording conductivity file sigma.2 at time stamp:2\n",
      "Done writing baselinesp.h5 file\n",
      "Finished build of baselinesp.xmf file\n",
      "\n",
      "Creating new xmf and h5 file.....\n",
      "Reading sp.1.node\n",
      "Reading sp.1.ele\n",
      "THE NUMBER OF NODES IS:16729\n",
      "THE NUMBER OF ELEMENTS IS:94664\n",
      "THE NUMBER OF ELEMENT ZONES IS:2\n",
      "Creating baselinesp.h5 file\n",
      "Recording conductivity file sigma.3 at time stamp:3\n",
      "Done writing baselinesp.h5 file\n",
      "Finished build of baselinesp.xmf file\n",
      "\n"
     ]
    }
   ],
   "source": [
    "# OPTIONAL Build the px file to view progression of baseline inversion\n",
    "## THIS IS PROVIDED IN results.tar.gz\n",
    "\n",
    "import re\n",
    "\n",
    "files=os.listdir('.')\n",
    "\n",
    "first=True\n",
    "cnt=1\n",
    "for sigF in files:\n",
    "    if (sigF.startswith(\"sigma.\")):\n",
    "        inc=int(re.search(r'\\d+', sigF).group())\n",
    "        if first:\n",
    "            cmd='px -f sp '+sigF+' baselinesp '+str(cnt)\n",
    "        else:\n",
    "            cmd='px -af sp '+sigF+' baselinesp'+str(cnt)\n",
    "        result = subprocess.run(cmd, shell=True,stdout=subprocess.PIPE)\n",
    "        output=result.stdout.decode(\"utf-8\") \n",
    "        cnt+=1\n",
    "\n",
    "        lines=output.split(sep='\\n')\n",
    "        for line in lines:\n",
    "            print (line)"
   ]
  },
  {
   "cell_type": "code",
   "execution_count": null,
   "metadata": {},
   "outputs": [],
   "source": []
  }
 ],
 "metadata": {
  "kernelspec": {
   "display_name": "Python 3",
   "language": "python",
   "name": "python3"
  },
  "language_info": {
   "codemirror_mode": {
    "name": "ipython",
    "version": 3
   },
   "file_extension": ".py",
   "mimetype": "text/x-python",
   "name": "python",
   "nbconvert_exporter": "python",
   "pygments_lexer": "ipython3",
   "version": "3.7.3"
  }
 },
 "nbformat": 4,
 "nbformat_minor": 2
}
