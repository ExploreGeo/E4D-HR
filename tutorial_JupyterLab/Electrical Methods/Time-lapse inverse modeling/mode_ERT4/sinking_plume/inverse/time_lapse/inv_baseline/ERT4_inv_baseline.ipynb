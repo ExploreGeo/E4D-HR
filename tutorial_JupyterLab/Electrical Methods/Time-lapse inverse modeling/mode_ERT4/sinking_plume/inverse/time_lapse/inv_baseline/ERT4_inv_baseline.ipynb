{
 "cells": [
  {
   "cell_type": "code",
   "execution_count": 13,
   "metadata": {},
   "outputs": [
    {
     "data": {
      "text/plain": [
       "CompletedProcess(args=['/home/robi526/codes/visit3_1_0.linux-x86_64/bin/visit', 'cli', '-s', 'script.py'], returncode=0)"
      ]
     },
     "execution_count": 13,
     "metadata": {},
     "output_type": "execute_result"
    }
   ],
   "source": [
    "# view the files in visit\n",
    "import os\n",
    "import subprocess\n",
    "\n",
    "\n",
    "dir_Visit='/home/robi526/codes/visit3_1_0.linux-x86_64/bin/' # put in path to ViSit\n",
    "subprocess.run([dir_Visit+'visit' , 'cli', '-s', 'script.py'])\n"
   ]
  },
  {
   "cell_type": "code",
   "execution_count": null,
   "metadata": {},
   "outputs": [],
   "source": []
  }
 ],
 "metadata": {
  "kernelspec": {
   "display_name": "Python 3",
   "language": "python",
   "name": "python3"
  },
  "language_info": {
   "codemirror_mode": {
    "name": "ipython",
    "version": 3
   },
   "file_extension": ".py",
   "mimetype": "text/x-python",
   "name": "python",
   "nbconvert_exporter": "python",
   "pygments_lexer": "ipython3",
   "version": "3.7.3"
  }
 },
 "nbformat": 4,
 "nbformat_minor": 2
}
