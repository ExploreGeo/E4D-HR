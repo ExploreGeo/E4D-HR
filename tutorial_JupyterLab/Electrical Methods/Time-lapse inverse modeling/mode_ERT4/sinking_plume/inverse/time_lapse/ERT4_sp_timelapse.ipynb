{
 "cells": [
  {
   "cell_type": "raw",
   "metadata": {},
   "source": [
    "# Time-lapse ER Inverse Modeling - Sinking Plume\n",
    "## Run mode: ERT4    \n",
    "\n",
    "The steps followed below are:   \n",
    "1) Create the inverse modeling mesh  \n",
    "2) Move over the baseline solution to use as a starting and reference model in the time-lapse inversion\n",
    "3) Create time-lapse inversion file list to be input to e4d.inp\n",
    "4) Run the inversion, using a baseline reference model\n",
    "5) OPTIONAL:  Build the px file to view the time-lapse results\n",
    "6) Modify the e4d.inp file, using a previous solution reference model\n"
   ]
  },
  {
   "cell_type": "code",
   "execution_count": 1,
   "metadata": {},
   "outputs": [
    {
     "name": "stdout",
     "output_type": "stream",
     "text": [
      "Mesh build okay\n"
     ]
    }
   ],
   "source": [
    "# 1) Create the inverse modeling mesh for time lapse inversion\n",
    "\n",
    "import subprocess\n",
    "import os\n",
    "import sys\n",
    "\n",
    "os.chdir('../mesh')\n",
    "\n",
    "cmd='mpirun -np 1 e4d' # assumes mpirun and e4d are in your path\n",
    "result = subprocess.run(cmd, shell=True,stdout=subprocess.PIPE)\n",
    "output=result.stdout.decode(\"utf-8\") \n",
    "\n",
    "lines=output.split(sep='\\n')\n",
    "cont=False\n",
    "for line in lines:\n",
    "        #print (line)\n",
    "        if 'Finished build' in line:\n",
    "            print ('Mesh build okay')\n",
    "            cont=True\n",
    "\n",
    "# copy the mesh files to the main directory and remove mesh generation files\n",
    "cmd='mv sp.1* ../time_lapse/.'\n",
    "subprocess.run(cmd, shell=True,stdout=subprocess.PIPE)\n",
    "cmd='mv sp.trn ../time_lapse/.'\n",
    "subprocess.run(cmd, shell=True,stdout=subprocess.PIPE)\n",
    "\n",
    "#cmd=\"rm -v !('e4d.inp'|'sp.cfg') \"\n",
    "#subprocess.run(cmd, shell=True,stdout=subprocess.PIPE)\n",
    "cmd='rm surface.*'\n",
    "subprocess.run(cmd, shell=True,stdout=subprocess.PIPE)\n",
    "cmd='*.poly*'\n",
    "subprocess.run(cmd, shell=True,stdout=subprocess.PIPE)\n",
    "cmd='rm mesh_build.log'\n",
    "subprocess.run(cmd, shell=True,stdout=subprocess.PIPE)\n",
    "cmd='rm e4d.log'\n",
    "subprocess.run(cmd, shell=True,stdout=subprocess.PIPE)\n",
    "cmd='rm sp.sig'\n",
    "subprocess.run(cmd, shell=True,stdout=subprocess.PIPE)\n",
    "cmd='rm sp.h5'\n",
    "subprocess.run(cmd, shell=True,stdout=subprocess.PIPE)\n",
    "cmd='rm sp.xmf'\n",
    "subprocess.run(cmd, shell=True,stdout=subprocess.PIPE)\n",
    "cmd='rm *poly*'\n",
    "subprocess.run(cmd, shell=True,stdout=subprocess.PIPE)\n",
    "\n",
    "\n",
    "os.chdir('../time_lapse')"
   ]
  },
  {
   "cell_type": "code",
   "execution_count": 17,
   "metadata": {},
   "outputs": [
    {
     "data": {
      "text/plain": [
       "CompletedProcess(args='cp ../baseline/sigma.3 baseline_sp.sig', returncode=0, stdout=b'')"
      ]
     },
     "execution_count": 17,
     "metadata": {},
     "output_type": "execute_result"
    }
   ],
   "source": [
    "#2) Move over the baseline solution to use as a starting and reference model in the time-lapse inversion\n",
    "\n",
    "# THE BASELINE INVERSION MUST BE RUN FIRST TO USE THIS CODE\n",
    "# Query /baseline and use the last sigma.* file as the baseline solution.\n",
    "# This is the sigma file with the largest integer\n",
    "import os\n",
    "import re\n",
    "import subprocess\n",
    "files=os.listdir('../baseline')\n",
    "\n",
    "iter=0\n",
    "for sigF in files:\n",
    "    if (sigF.startswith(\"sigma.\")):\n",
    "        tmp=re.findall('\\d+', sigF )\n",
    "        tmp = [int(x) for x in tmp]\n",
    "        \n",
    "        if tmp[0] > iter:\n",
    "            iter=tmp[0]\n",
    "            \n",
    "fn='sigma.'+str(iter)\n",
    "\n",
    "cmd='cp ../baseline/'+fn+ ' baseline_sp.sig'\n",
    "subprocess.run(cmd, shell=True,stdout=subprocess.PIPE)\n"
   ]
  },
  {
   "cell_type": "code",
   "execution_count": 18,
   "metadata": {},
   "outputs": [
    {
     "name": "stdout",
     "output_type": "stream",
     "text": [
      "[0.0, 0.5, 1.0, 1.5, 2.0, 2.5, 3.0, 3.5, 4.0, 4.5, 5.0, 5.5, 6.0, 6.5, 7.0, 7.5, 8.0, 8.5, 9.0, 9.5, 10.0]\n",
      "done\n"
     ]
    }
   ],
   "source": [
    "#3) Create surveys.txt file\n",
    "\n",
    "# THE FORWARD MODELS MUST BE CREATED BEFORE RUNNING THIS CODE\n",
    "# This can be done by extracting surveys.tgz or\n",
    "# running forward/ERT2_sp.ipynb\n",
    "\n",
    "import os\n",
    "import re\n",
    "import subprocess\n",
    "\n",
    "files=os.listdir('.')\n",
    "\n",
    "\n",
    "surv_fn=[]\n",
    "num=[]\n",
    "iter=0\n",
    "for sigF in files:\n",
    "    if (sigF.startswith(\"sig\") and sigF.endswith(\".sig.srv\")):\n",
    "        tmp=re.findall('\\d+', sigF )\n",
    "        tmp = [int(x) for x in tmp]\n",
    "        num.append(float(str(tmp[0])+'.'+str(tmp[1])))\n",
    "num = sorted(num)\n",
    "print (num)  \n",
    "\n",
    "outfile = open('surveys.txt','w+')\n",
    "outfile.write('{}\\n'.format(str(len(num))))\n",
    "for i in range(len(num)):\n",
    "    outfile.write('{:20} {:5}\\n'.format('sig_'+str(num[i])+'.sig.srv',num[i]))\n",
    "\n",
    "print ('done')"
   ]
  },
  {
   "cell_type": "code",
   "execution_count": 23,
   "metadata": {},
   "outputs": [],
   "source": [
    "# Create e4d.inp file, using the baseline solution reference model\n",
    "### THESE FILES ARE PROVIDED IN /inv_previous\n",
    "\n",
    "pre='sp'\n",
    "srvfile='two_blocks.srv'\n",
    "outoptFile='two_blocks.out'\n",
    "\n",
    "fileN='e4d.inp'\n",
    "f1=open(fileN, 'w')\n",
    "f1.write(\"ERT4\\n\")              # run mode ERT4\n",
    "f1.write(pre+\".1.node\\n\")       # mesh node file\n",
    "f1.write(\"baseline.sig.srv\\n\")  # baseline survey file\n",
    "f1.write('baseline_sp.sig\\n')   # starting conductivity file\n",
    "f1.write(pre+'.out\\n')          # output options file\n",
    "f1.write(pre+'_tl.inv\\n')       # inversion options file\n",
    "f1.write('baseline_sp.sig\\n')   # reference model file\n",
    "f1.write('surveys.txt 1\\n')     # survey file list, using the baseline solution as the starting model\n",
    "f1.close()\n",
    "\n",
    "\n",
    "# check e4d.log for progress \n",
    "import subprocess\n",
    "\n",
    "cmd='/home/robi526/codes/e4d_dev/petsc/arch-linux-c-opt/bin/mpirun -np 20 e4d' \n",
    "result = subprocess.run(cmd, shell=True,stdout=subprocess.PIPE)\n",
    "output=result.stdout.decode(\"utf-8\") \n",
    "\n",
    "\n",
    "#4) Run the inversion, using a baseline reference model\n",
    "### THESE FILES ARE PROVIDED IN /inv_baseline\n",
    "\n",
    "# check e4d.log for progress \n",
    "import subprocess\n",
    "\n",
    "cmd='/home/robi526/codes/e4d_dev/petsc/arch-linux-c-opt/bin/mpirun -np 20 e4d' # assumes mpirun and e4d are in your path\n",
    "result = subprocess.run(cmd, shell=True,stdout=subprocess.PIPE)\n",
    "output=result.stdout.decode(\"utf-8\") \n",
    "\n"
   ]
  },
  {
   "cell_type": "code",
   "execution_count": 15,
   "metadata": {},
   "outputs": [
    {
     "name": "stdout",
     "output_type": "stream",
     "text": [
      "tl_sig0.000\n",
      "tl_sig0.500\n",
      "tl_sig1.000\n",
      "tl_sig1.500\n",
      "tl_sig2.000\n",
      "tl_sig2.500\n",
      "tl_sig3.000\n",
      "tl_sig3.500\n",
      "tl_sig4.000\n",
      "tl_sig4.500\n",
      "tl_sig5.000\n",
      "tl_sig5.500\n",
      "tl_sig6.000\n",
      "tl_sig6.500\n",
      "tl_sig7.000\n",
      "tl_sig7.500\n",
      "tl_sig8.000\n",
      "tl_sig8.500\n",
      "tl_sig9.000\n",
      "tl_sig9.500\n",
      "tl_sig10.000\n"
     ]
    }
   ],
   "source": [
    "# 5) OPTIONAL:  Build the px file to view the time-lapse results\n",
    "import subprocess\n",
    "\n",
    "# get the output file names from surveys.txt\n",
    "f = open(\"surveys.txt\",\"r\") \n",
    "\n",
    "first=True\n",
    "for line in f:\n",
    "    try: \n",
    "        int(line)\n",
    "    except:\n",
    "        tmp=line.split()\n",
    "\n",
    "        tl_fn='tl_sig'+str(tmp[1])+'00'\n",
    "        print (tl_fn)\n",
    "\n",
    "        if first==True:\n",
    "            cmd='px -f sp '+tl_fn+' tl_sp '+str(tmp[1])\n",
    "            first=False\n",
    "        else:\n",
    "            cmd='px -af sp '+tl_fn+' tl_sp '+str(tmp[1])\n",
    "\n",
    "        result = subprocess.run(cmd, shell=True,stdout=subprocess.PIPE)\n",
    "        output=result.stdout.decode(\"utf-8\") \n",
    "\n",
    "f.close()"
   ]
  },
  {
   "cell_type": "code",
   "execution_count": 21,
   "metadata": {},
   "outputs": [
    {
     "ename": "KeyboardInterrupt",
     "evalue": "",
     "output_type": "error",
     "traceback": [
      "\u001b[0;31m---------------------------------------------------------------------------\u001b[0m",
      "\u001b[0;31mKeyboardInterrupt\u001b[0m                         Traceback (most recent call last)",
      "\u001b[0;32m<ipython-input-21-054d32947525>\u001b[0m in \u001b[0;36m<module>\u001b[0;34m\u001b[0m\n\u001b[1;32m     23\u001b[0m \u001b[0;34m\u001b[0m\u001b[0m\n\u001b[1;32m     24\u001b[0m \u001b[0mcmd\u001b[0m\u001b[0;34m=\u001b[0m\u001b[0;34m'/home/robi526/codes/e4d_dev/petsc/arch-linux-c-opt/bin/mpirun -np 20 e4d'\u001b[0m\u001b[0;34m\u001b[0m\u001b[0;34m\u001b[0m\u001b[0m\n\u001b[0;32m---> 25\u001b[0;31m \u001b[0mresult\u001b[0m \u001b[0;34m=\u001b[0m \u001b[0msubprocess\u001b[0m\u001b[0;34m.\u001b[0m\u001b[0mrun\u001b[0m\u001b[0;34m(\u001b[0m\u001b[0mcmd\u001b[0m\u001b[0;34m,\u001b[0m \u001b[0mshell\u001b[0m\u001b[0;34m=\u001b[0m\u001b[0;32mTrue\u001b[0m\u001b[0;34m,\u001b[0m\u001b[0mstdout\u001b[0m\u001b[0;34m=\u001b[0m\u001b[0msubprocess\u001b[0m\u001b[0;34m.\u001b[0m\u001b[0mPIPE\u001b[0m\u001b[0;34m)\u001b[0m\u001b[0;34m\u001b[0m\u001b[0;34m\u001b[0m\u001b[0m\n\u001b[0m\u001b[1;32m     26\u001b[0m \u001b[0moutput\u001b[0m\u001b[0;34m=\u001b[0m\u001b[0mresult\u001b[0m\u001b[0;34m.\u001b[0m\u001b[0mstdout\u001b[0m\u001b[0;34m.\u001b[0m\u001b[0mdecode\u001b[0m\u001b[0;34m(\u001b[0m\u001b[0;34m\"utf-8\"\u001b[0m\u001b[0;34m)\u001b[0m\u001b[0;34m\u001b[0m\u001b[0;34m\u001b[0m\u001b[0m\n\u001b[1;32m     27\u001b[0m \u001b[0;34m\u001b[0m\u001b[0m\n",
      "\u001b[0;32m~/anaconda3/lib/python3.7/subprocess.py\u001b[0m in \u001b[0;36mrun\u001b[0;34m(input, capture_output, timeout, check, *popenargs, **kwargs)\u001b[0m\n\u001b[1;32m    472\u001b[0m     \u001b[0;32mwith\u001b[0m \u001b[0mPopen\u001b[0m\u001b[0;34m(\u001b[0m\u001b[0;34m*\u001b[0m\u001b[0mpopenargs\u001b[0m\u001b[0;34m,\u001b[0m \u001b[0;34m**\u001b[0m\u001b[0mkwargs\u001b[0m\u001b[0;34m)\u001b[0m \u001b[0;32mas\u001b[0m \u001b[0mprocess\u001b[0m\u001b[0;34m:\u001b[0m\u001b[0;34m\u001b[0m\u001b[0;34m\u001b[0m\u001b[0m\n\u001b[1;32m    473\u001b[0m         \u001b[0;32mtry\u001b[0m\u001b[0;34m:\u001b[0m\u001b[0;34m\u001b[0m\u001b[0;34m\u001b[0m\u001b[0m\n\u001b[0;32m--> 474\u001b[0;31m             \u001b[0mstdout\u001b[0m\u001b[0;34m,\u001b[0m \u001b[0mstderr\u001b[0m \u001b[0;34m=\u001b[0m \u001b[0mprocess\u001b[0m\u001b[0;34m.\u001b[0m\u001b[0mcommunicate\u001b[0m\u001b[0;34m(\u001b[0m\u001b[0minput\u001b[0m\u001b[0;34m,\u001b[0m \u001b[0mtimeout\u001b[0m\u001b[0;34m=\u001b[0m\u001b[0mtimeout\u001b[0m\u001b[0;34m)\u001b[0m\u001b[0;34m\u001b[0m\u001b[0;34m\u001b[0m\u001b[0m\n\u001b[0m\u001b[1;32m    475\u001b[0m         \u001b[0;32mexcept\u001b[0m \u001b[0mTimeoutExpired\u001b[0m\u001b[0;34m:\u001b[0m\u001b[0;34m\u001b[0m\u001b[0;34m\u001b[0m\u001b[0m\n\u001b[1;32m    476\u001b[0m             \u001b[0mprocess\u001b[0m\u001b[0;34m.\u001b[0m\u001b[0mkill\u001b[0m\u001b[0;34m(\u001b[0m\u001b[0;34m)\u001b[0m\u001b[0;34m\u001b[0m\u001b[0;34m\u001b[0m\u001b[0m\n",
      "\u001b[0;32m~/anaconda3/lib/python3.7/subprocess.py\u001b[0m in \u001b[0;36mcommunicate\u001b[0;34m(self, input, timeout)\u001b[0m\n\u001b[1;32m    924\u001b[0m                 \u001b[0mself\u001b[0m\u001b[0;34m.\u001b[0m\u001b[0m_stdin_write\u001b[0m\u001b[0;34m(\u001b[0m\u001b[0minput\u001b[0m\u001b[0;34m)\u001b[0m\u001b[0;34m\u001b[0m\u001b[0;34m\u001b[0m\u001b[0m\n\u001b[1;32m    925\u001b[0m             \u001b[0;32melif\u001b[0m \u001b[0mself\u001b[0m\u001b[0;34m.\u001b[0m\u001b[0mstdout\u001b[0m\u001b[0;34m:\u001b[0m\u001b[0;34m\u001b[0m\u001b[0;34m\u001b[0m\u001b[0m\n\u001b[0;32m--> 926\u001b[0;31m                 \u001b[0mstdout\u001b[0m \u001b[0;34m=\u001b[0m \u001b[0mself\u001b[0m\u001b[0;34m.\u001b[0m\u001b[0mstdout\u001b[0m\u001b[0;34m.\u001b[0m\u001b[0mread\u001b[0m\u001b[0;34m(\u001b[0m\u001b[0;34m)\u001b[0m\u001b[0;34m\u001b[0m\u001b[0;34m\u001b[0m\u001b[0m\n\u001b[0m\u001b[1;32m    927\u001b[0m                 \u001b[0mself\u001b[0m\u001b[0;34m.\u001b[0m\u001b[0mstdout\u001b[0m\u001b[0;34m.\u001b[0m\u001b[0mclose\u001b[0m\u001b[0;34m(\u001b[0m\u001b[0;34m)\u001b[0m\u001b[0;34m\u001b[0m\u001b[0;34m\u001b[0m\u001b[0m\n\u001b[1;32m    928\u001b[0m             \u001b[0;32melif\u001b[0m \u001b[0mself\u001b[0m\u001b[0;34m.\u001b[0m\u001b[0mstderr\u001b[0m\u001b[0;34m:\u001b[0m\u001b[0;34m\u001b[0m\u001b[0;34m\u001b[0m\u001b[0m\n",
      "\u001b[0;31mKeyboardInterrupt\u001b[0m: "
     ]
    }
   ],
   "source": [
    "#6) Modify the e4d.inp file, using a previous solution reference model\n",
    "### THESE FILES ARE PROVIDED IN /inv_previous\n",
    "\n",
    "pre='sp'\n",
    "srvfile='two_blocks.srv'\n",
    "outoptFile='two_blocks.out'\n",
    "\n",
    "fileN='e4d.inp'\n",
    "f1=open(fileN, 'w')\n",
    "f1.write(\"ERT4\\n\")              # run mode ERT4\n",
    "f1.write(pre+\".1.node\\n\")       # mesh node file\n",
    "f1.write(\"baseline.sig.srv\\n\")  # baseline survey file\n",
    "f1.write('baseline_sp.sig\\n')   # starting conductivity file\n",
    "f1.write(pre+'.out\\n')          # output options file\n",
    "f1.write(pre+'_tl.inv\\n')       # inversion options file\n",
    "f1.write('baseline_sp.sig\\n')   # reference model file\n",
    "f1.write('surveys.txt 2\\n')     # survey file list, using the previous solution as the starting model\n",
    "f1.close()\n",
    "\n",
    "\n",
    "# check e4d.log for progress \n",
    "import subprocess\n",
    "\n",
    "cmd='/home/robi526/codes/e4d_dev/petsc/arch-linux-c-opt/bin/mpirun -np 20 e4d' \n",
    "result = subprocess.run(cmd, shell=True,stdout=subprocess.PIPE)\n",
    "output=result.stdout.decode(\"utf-8\") \n",
    "\n",
    "\n"
   ]
  },
  {
   "cell_type": "code",
   "execution_count": null,
   "metadata": {},
   "outputs": [],
   "source": [
    "# 5) OPTIONAL:  Build the px file to view the time-lapse results\n",
    "import subprocess\n",
    "\n",
    "# get the output file names from surveys.txt\n",
    "f = open(\"surveys.txt\",\"r\") \n",
    "\n",
    "first=True\n",
    "for line in f:\n",
    "    try: \n",
    "        int(line)\n",
    "    except:\n",
    "        tmp=line.split()\n",
    "\n",
    "        tl_fn='tl_sig'+str(tmp[1])+'00'\n",
    "        print (tl_fn)\n",
    "\n",
    "        if first==True:\n",
    "            cmd='px -f sp '+tl_fn+' tlprev_sp '+str(tmp[1])\n",
    "            first=False\n",
    "        else:\n",
    "            cmd='px -af sp '+tl_fn+' tlprev_sp '+str(tmp[1])\n",
    "\n",
    "        result = subprocess.run(cmd, shell=True,stdout=subprocess.PIPE)\n",
    "        output=result.stdout.decode(\"utf-8\") \n",
    "\n",
    "f.close()"
   ]
  }
 ],
 "metadata": {
  "kernelspec": {
   "display_name": "Python 3",
   "language": "python",
   "name": "python3"
  },
  "language_info": {
   "codemirror_mode": {
    "name": "ipython",
    "version": 3
   },
   "file_extension": ".py",
   "mimetype": "text/x-python",
   "name": "python",
   "nbconvert_exporter": "python",
   "pygments_lexer": "ipython3",
   "version": "3.7.3"
  }
 },
 "nbformat": 4,
 "nbformat_minor": 2
}
