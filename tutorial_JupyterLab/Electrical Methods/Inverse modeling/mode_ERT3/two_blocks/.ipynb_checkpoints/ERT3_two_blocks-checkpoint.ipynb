{
 "cells": [
  {
   "cell_type": "markdown",
   "metadata": {},
   "source": [
    "# ER Static Inverse Modeling\n",
    "## Run mode: ERT3    Two Buried Blocks\n",
    "\n",
    "This example build on the two_blocks example in /mode_ERT1/two_blocks/ and mode_ERT2/two_blocks/Example2/.\n",
    "The survey file two_blocks.srv will be used which was generated in mode_ERT2/two_blocks/Example2/.\n",
    "\n",
    "This examples takes the user through using four different inversion option files.  \n",
    "\n",
    "The steps followed below are:     \n",
    "1) Create the inversion mesh.  The forward modeling mesh contained boundaries for the two_blocks.  The inverse mesh does not contain these boundaries.  \n",
    "2) Create the e4d.inp file for ERT inverse run mode and invert.  \n",
    "3) Repeat for other inversion option files.  \n",
    "\n"
   ]
  },
  {
   "cell_type": "code",
   "execution_count": 4,
   "metadata": {},
   "outputs": [
    {
     "name": "stdout",
     "output_type": "stream",
     "text": [
      "Mesh build okay\n"
     ]
    }
   ],
   "source": [
    "# 1) Create the inversion mesh.  The forward modeling mesh contained boundaries for the two_blocks.  The inverse mesh does not contain these boundaries.\n",
    "# two_blocks_inv.cfg is defined as the mesh configuation file in e4d.inp\n",
    "import subprocess\n",
    "import os\n",
    "import sys\n",
    "\n",
    "# create e4d.inp file to build the mesh\n",
    "pre='two_blocks_inv'\n",
    "srvfile='two_blocks.srv'\n",
    "outoptFile='two_blocks.out'\n",
    "\n",
    "fileN='e4d.inp'\n",
    "f1=open(fileN, 'w')\n",
    "f1.write(\"ERT1\\n\")    # run mode ERT1\n",
    "f1.write(pre+\".cfg\\n\") # mesh configuration file\n",
    "f1.close()\n",
    "\n",
    "\n",
    "cmd='mpirun -np 1 e4d' # assumes mpirun and e4d are in your path\n",
    "result = subprocess.run(cmd, shell=True,stdout=subprocess.PIPE)\n",
    "output=result.stdout.decode(\"utf-8\") \n",
    "\n",
    "lines=output.split(sep='\\n')\n",
    "cont=False\n",
    "for line in lines:\n",
    "        #print (line)\n",
    "        if 'Finished build' in line:\n",
    "            print ('Mesh build okay')\n",
    "            cont=True\n",
    "\n",
    "            "
   ]
  },
  {
   "cell_type": "code",
   "execution_count": 2,
   "metadata": {},
   "outputs": [
    {
     "name": "stdout",
     "output_type": "stream",
     "text": [
      "Inv_1 completed\n"
     ]
    },
    {
     "data": {
      "text/plain": [
       "CompletedProcess(args='mv sensitivity.txt  inv_1/.', returncode=0, stdout=b'')"
      ]
     },
     "execution_count": 2,
     "metadata": {},
     "output_type": "execute_result"
    }
   ],
   "source": [
    "import subprocess\n",
    "\n",
    "# ************** THESE INVERSION RESULTS ARE PROVIDED IN inv_1.tar.gz ****************\n",
    "# ************** VISUALIZATION IS PROVIDED IN ERT3_tb_inv1.ipynb ****************\n",
    "\n",
    "\n",
    "# DEPENDING ON THE NUMBER OF PROCESSORS AVAILABLE, THIS CODE COULD TAKE UP TO 20 MINUTES TO RUN\n",
    "\n",
    "# DUE TO THE TIME IT WILL TAKE TO PROCESS THIS CODE,\n",
    "# IT IS HIGHLY RECOMMENDED TO ONLY RUN THIS BLOCK OF CODE BY SELECTING SHIFT-ENTER\n",
    "\n",
    "# 2) Create the e4d.inp file for ERT inverse run mode and invert\n",
    "dir_out='inv_1'\n",
    "\n",
    "invOptFile='two_blocks_1.inv'\n",
    "\n",
    "fileN='e4d.inp'\n",
    "f1=open(fileN, 'w')\n",
    "f1.write(\"ERT3\\n\")            # run mode ERT3\n",
    "f1.write(pre+\".1.ele\\n\")      # mesh element file \n",
    "f1.write(srvfile+\"\\n\")        # survey file - use analytic survey file from analytic solution\n",
    "f1.write(\"average\\n\")         # starting conductivity = average apparent resistivity\n",
    "f1.write(outoptFile+\"\\n\")     # output options\n",
    "f1.write(invOptFile+\"\\n\")     # inverse options\n",
    "f1.write(\"none\\n\")            # reference model file\n",
    "f1.close()\n",
    "\n",
    "cmd='mpirun -np 20 e4d' # assumes mpirun and e4d are in your path\n",
    "result = subprocess.run(cmd, shell=True,stdout=subprocess.PIPE)\n",
    "output=result.stdout.decode(\"utf-8\") \n",
    "\n",
    "lines=output.split(sep='\\n')\n",
    "for line in lines:\n",
    "        if 'COMPUTING J_TRANS_J' in line:\n",
    "            print ('Inv_1 completed')\n",
    "                \n",
    "                \n",
    "# move files to a subdirectory\n",
    "cmd='mkdir '+ dir_out\n",
    "subprocess.run(cmd, shell=True,stdout=subprocess.PIPE)\n",
    "\n",
    "cmd='mv sigma.* '+ dir_out + '/.' \n",
    "subprocess.run(cmd, shell=True,stdout=subprocess.PIPE)\n",
    "\n",
    "cmd='mv e4d.log  '+ dir_out + '/.'  \n",
    "subprocess.run(cmd, shell=True,stdout=subprocess.PIPE)\n",
    "\n",
    "cmd='mv two_blocks.dpd '+ dir_out + '/.'  \n",
    "subprocess.run(cmd, shell=True,stdout=subprocess.PIPE)\n",
    "\n",
    "cmd='mv sensitivity.txt  '+ dir_out + '/.'  \n",
    "subprocess.run(cmd, shell=True,stdout=subprocess.PIPE)"
   ]
  },
  {
   "cell_type": "code",
   "execution_count": 3,
   "metadata": {},
   "outputs": [
    {
     "name": "stdout",
     "output_type": "stream",
     "text": [
      "Inv_2 completed\n"
     ]
    },
    {
     "data": {
      "text/plain": [
       "CompletedProcess(args='mv sensitivity.txt  inv_2/.', returncode=0, stdout=b'')"
      ]
     },
     "execution_count": 3,
     "metadata": {},
     "output_type": "execute_result"
    }
   ],
   "source": [
    "import subprocess\n",
    "\n",
    "# ************** THESE INVERSION RESULTS ARE PROVIDED IN inv_2.tar.gz ****************\n",
    "# ************** VISUALIZATION IS PROVIDED IN ERT3_tb_inv2.ipynb ****************\n",
    "\n",
    "\n",
    "# DEPENDING ON THE NUMBER OF PROCESSORS AVAILABLE, THIS CODE COULD TAKE UP TO 20 MINUTES TO RUN\n",
    "\n",
    "# DUE TO THE TIME IT WILL TAKE TO PROCESS THIS CODE,\n",
    "# IT IS HIGHLY RECOMMENDED TO ONLY RUN THIS BLOCK OF CODE BY SELECTING SHIFT-ENTER\n",
    "\n",
    "# check e4d.log for updates\n",
    "#3) Repeat for other inversion option files.\n",
    "dir_out='inv_2'\n",
    "invOptFile='two_blocks_2.inv'\n",
    "\n",
    "fileN='e4d.inp'\n",
    "f1=open(fileN, 'w')\n",
    "f1.write(\"ERT3\\n\")            # run mode ERT3\n",
    "f1.write(pre+\".1.ele\\n\")      # mesh element file \n",
    "f1.write(srvfile+\"\\n\")        # survey file - use analytic survey file from analytic solution\n",
    "f1.write(\"average\\n\")         # starting conductivity = average apparent resistivity\n",
    "f1.write(outoptFile+\"\\n\")     # output options\n",
    "f1.write(invOptFile+\"\\n\")     # inverse options\n",
    "f1.write(\"none\\n\")            # reference model file\n",
    "f1.close()\n",
    "\n",
    "cmd='mpirun -np 20 e4d' # assumes mpirun and e4d are in your path\n",
    "result = subprocess.run(cmd, shell=True,stdout=subprocess.PIPE)\n",
    "output=result.stdout.decode(\"utf-8\") \n",
    "\n",
    "lines=output.split(sep='\\n')\n",
    "for line in lines:\n",
    "        if 'COMPUTING J_TRANS_J' in line:\n",
    "            print ('Inv_2 completed')\n",
    "                \n",
    "\n",
    "# move files to a subdirectory\n",
    "cmd='mkdir '+ dir_out\n",
    "subprocess.run(cmd, shell=True,stdout=subprocess.PIPE)\n",
    "\n",
    "cmd='mv sigma.* '+ dir_out + '/.' \n",
    "subprocess.run(cmd, shell=True,stdout=subprocess.PIPE)\n",
    "\n",
    "cmd='mv e4d.log  '+ dir_out + '/.'  \n",
    "subprocess.run(cmd, shell=True,stdout=subprocess.PIPE)\n",
    "\n",
    "cmd='mv two_blocks.dpd '+ dir_out + '/.'  \n",
    "subprocess.run(cmd, shell=True,stdout=subprocess.PIPE)\n",
    "\n",
    "cmd='mv sensitivity.txt  '+ dir_out + '/.'  \n",
    "subprocess.run(cmd, shell=True,stdout=subprocess.PIPE)"
   ]
  },
  {
   "cell_type": "code",
   "execution_count": 4,
   "metadata": {},
   "outputs": [
    {
     "name": "stdout",
     "output_type": "stream",
     "text": [
      "Inv_3 completed\n"
     ]
    },
    {
     "data": {
      "text/plain": [
       "CompletedProcess(args='mv sensitivity.txt  inv_3/.', returncode=0, stdout=b'')"
      ]
     },
     "execution_count": 4,
     "metadata": {},
     "output_type": "execute_result"
    }
   ],
   "source": [
    "import subprocess\n",
    "\n",
    "# ************** THESE INVERSION RESULTS ARE PROVIDED IN inv_3.tar.gz ****************\n",
    "# ************** VISUALIZATION IS PROVIDED IN ERT3_tb_inv3.ipynb ****************\n",
    "\n",
    "\n",
    "\n",
    "# DEPENDING ON THE NUMBER OF PROCESSORS AVAILABLE, THIS CODE COULD TAKE UP TO 20 MINUTES TO RUN\n",
    "\n",
    "# DUE TO THE TIME IT WILL TAKE TO PROCESS THIS CODE,\n",
    "# IT IS HIGHLY RECOMMENDED TO ONLY RUN THIS BLOCK OF CODE BY SELECTING SHIFT-ENTER\n",
    "\n",
    "# check e4d.log for updates\n",
    "#3) Repeat for other inversion option files.\n",
    "dir_out='inv_3'\n",
    "invOptFile='two_blocks_3.inv'\n",
    "\n",
    "fileN='e4d.inp'\n",
    "f1=open(fileN, 'w')\n",
    "f1.write(\"ERT3\\n\")            # run mode ERT3\n",
    "f1.write(pre+\".1.ele\\n\")      # mesh element file \n",
    "f1.write(srvfile+\"\\n\")        # survey file - use analytic survey file from analytic solution\n",
    "f1.write(\"average\\n\")         # starting conductivity = average apparent resistivity\n",
    "f1.write(outoptFile+\"\\n\")     # output options\n",
    "f1.write(invOptFile+\"\\n\")     # inverse options\n",
    "f1.write(\"none\\n\")            # reference model file\n",
    "f1.close()\n",
    "\n",
    "cmd='mpirun -np 20 e4d' # assumes mpirun and e4d are in your path\n",
    "result = subprocess.run(cmd, shell=True,stdout=subprocess.PIPE)\n",
    "output=result.stdout.decode(\"utf-8\") \n",
    "\n",
    "lines=output.split(sep='\\n')\n",
    "for line in lines:\n",
    "        if 'COMPUTING J_TRANS_J' in line:\n",
    "            print ('Inv_3 completed')\n",
    "                \n",
    "\n",
    "# move files to a subdirectory\n",
    "cmd='mkdir '+ dir_out\n",
    "subprocess.run(cmd, shell=True,stdout=subprocess.PIPE)\n",
    "\n",
    "cmd='mv sigma.* '+ dir_out + '/.' \n",
    "subprocess.run(cmd, shell=True,stdout=subprocess.PIPE)\n",
    "\n",
    "cmd='mv e4d.log  '+ dir_out + '/.'  \n",
    "subprocess.run(cmd, shell=True,stdout=subprocess.PIPE)\n",
    "\n",
    "cmd='mv two_blocks.dpd '+ dir_out + '/.'  \n",
    "subprocess.run(cmd, shell=True,stdout=subprocess.PIPE)\n",
    "\n",
    "cmd='mv sensitivity.txt  '+ dir_out + '/.'  \n",
    "subprocess.run(cmd, shell=True,stdout=subprocess.PIPE)"
   ]
  },
  {
   "cell_type": "code",
   "execution_count": 5,
   "metadata": {},
   "outputs": [
    {
     "name": "stdout",
     "output_type": "stream",
     "text": [
      "Inv_4 completed\n"
     ]
    },
    {
     "data": {
      "text/plain": [
       "CompletedProcess(args='mv sensitivity.txt  inv_4/.', returncode=0, stdout=b'')"
      ]
     },
     "execution_count": 5,
     "metadata": {},
     "output_type": "execute_result"
    }
   ],
   "source": [
    "import subprocess\n",
    "\n",
    "# ************** THESE INVERSION RESULTS ARE PROVIDED IN inv_4.tar.gz ****************\n",
    "# ************** VISUALIZATION IS PROVIDED IN ERT3_tb_inv4.ipynb ****************\n",
    "\n",
    "\n",
    "# DEPENDING ON THE NUMBER OF PROCESSORS AVAILABLE, THIS CODE COULD TAKE UP TO 20 MINUTES TO RUN\n",
    "\n",
    "# DUE TO THE TIME IT WILL TAKE TO PROCESS THIS CODE,\n",
    "# IT IS HIGHLY RECOMMENDED TO ONLY RUN THIS BLOCK OF CODE BY SELECTING SHIFT-ENTER\n",
    "\n",
    "# check e4d.log for updates\n",
    "#3) Repeat for other inversion option files.\n",
    "dir_out='inv_4'\n",
    "invOptFile='two_blocks_4.inv'\n",
    "\n",
    "fileN='e4d.inp'\n",
    "f1=open(fileN, 'w')\n",
    "f1.write(\"ERT3\\n\")            # run mode ERT3\n",
    "f1.write(pre+\".1.ele\\n\")      # mesh element file \n",
    "f1.write(srvfile+\"\\n\")        # survey file - use analytic survey file from analytic solution\n",
    "f1.write(\"average\\n\")         # starting conductivity = average apparent resistivity\n",
    "f1.write(outoptFile+\"\\n\")     # output options\n",
    "f1.write(invOptFile+\"\\n\")     # inverse options\n",
    "f1.write(\"none\\n\")            # reference model file\n",
    "f1.close()\n",
    "\n",
    "cmd='mpirun -np 20 e4d' # assumes mpirun and e4d are in your path\n",
    "result = subprocess.run(cmd, shell=True,stdout=subprocess.PIPE)\n",
    "output=result.stdout.decode(\"utf-8\") \n",
    "\n",
    "lines=output.split(sep='\\n')\n",
    "for line in lines:\n",
    "        if 'COMPUTING J_TRANS_J' in line:\n",
    "            print ('Inv_4 completed')\n",
    "                \n",
    "\n",
    "# move files to a subdirectory\n",
    "cmd='mkdir '+ dir_out\n",
    "subprocess.run(cmd, shell=True,stdout=subprocess.PIPE)\n",
    "\n",
    "cmd='mv sigma.* '+ dir_out + '/.' \n",
    "subprocess.run(cmd, shell=True,stdout=subprocess.PIPE)\n",
    "\n",
    "cmd='mv e4d.log  '+ dir_out + '/.'  \n",
    "subprocess.run(cmd, shell=True,stdout=subprocess.PIPE)\n",
    "\n",
    "cmd='mv two_blocks.dpd '+ dir_out + '/.'  \n",
    "subprocess.run(cmd, shell=True,stdout=subprocess.PIPE)\n",
    "\n",
    "cmd='mv sensitivity.txt  '+ dir_out + '/.'  \n",
    "subprocess.run(cmd, shell=True,stdout=subprocess.PIPE)"
   ]
  },
  {
   "cell_type": "code",
   "execution_count": null,
   "metadata": {},
   "outputs": [],
   "source": []
  }
 ],
 "metadata": {
  "kernelspec": {
   "display_name": "Python 3",
   "language": "python",
   "name": "python3"
  },
  "language_info": {
   "codemirror_mode": {
    "name": "ipython",
    "version": 3
   },
   "file_extension": ".py",
   "mimetype": "text/x-python",
   "name": "python",
   "nbconvert_exporter": "python",
   "pygments_lexer": "ipython3",
   "version": "3.7.3"
  }
 },
 "nbformat": 4,
 "nbformat_minor": 2
}
