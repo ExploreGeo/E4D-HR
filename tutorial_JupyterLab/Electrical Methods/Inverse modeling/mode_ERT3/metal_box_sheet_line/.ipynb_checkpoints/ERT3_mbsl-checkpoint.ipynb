{
 "cells": [
  {
   "cell_type": "markdown",
   "metadata": {},
   "source": [
    "# ER Static Inverse Modeling\n",
    "## Run mode: ERT3    Imaging in the Presence of Buried Metal\n",
    "\n",
    "This example builds on the mbsl example in /mode_ERT1/metal_box_sheet_line/ and mode_ERT2/metal_box_sheet_line/.\n",
    "\n",
    "The steps followed below are:   \n",
    "1) Create the forward modeling mesh.  \n",
    "2) Generate a custom conductivity distribution\n",
    "3) Run the forward model\n",
    "\n",
    "4) Create the inversion mesh.\n",
    "5) Run the inversion\n",
    "\n",
    "6) Repeat for other inversion option files.\n",
    "\n"
   ]
  },
  {
   "cell_type": "code",
   "execution_count": 1,
   "metadata": {},
   "outputs": [
    {
     "name": "stdout",
     "output_type": "stream",
     "text": [
      "Mesh build okay\n"
     ]
    }
   ],
   "source": [
    "# 1) Create the forward modeling mesh\n",
    "import subprocess\n",
    "import os\n",
    "import sys\n",
    "\n",
    "# create e4d.inp file to build the mesh\n",
    "pre='mbsl'\n",
    "\n",
    "fileN='e4d.inp'\n",
    "f1=open(fileN, 'w')\n",
    "f1.write(\"ERT1\\n\")    # run mode ERT1\n",
    "f1.write(pre+\".cfg\\n\") # mesh configuration file\n",
    "f1.close()\n",
    "\n",
    "\n",
    "cmd='mpirun -np 1 e4d' # assumes mpirun and e4d are in your path\n",
    "result = subprocess.run(cmd, shell=True,stdout=subprocess.PIPE)\n",
    "output=result.stdout.decode(\"utf-8\") \n",
    "\n",
    "lines=output.split(sep='\\n')\n",
    "cont=False\n",
    "for line in lines:\n",
    "        #print (line)\n",
    "        if 'Finished build' in line:\n",
    "            print ('Foward modeling mesh build okay')\n",
    "            cont=True\n",
    "\n",
    "            "
   ]
  },
  {
   "cell_type": "code",
   "execution_count": 9,
   "metadata": {},
   "outputs": [
    {
     "name": "stdout",
     "output_type": "stream",
     "text": [
      "Sigma file written\n",
      "Xdmf rebuild okay\n"
     ]
    }
   ],
   "source": [
    "# 2) Generate a custom conductivity distribution\n",
    "\n",
    "import numpy as np\n",
    "# Load the mesh elements\n",
    "fl = 'mbsl'\n",
    "ele = np.loadtxt(fl+'.1.ele',skiprows=1,dtype='i4')\n",
    "nele=len(ele[:,0]) # number of elements in mesh\n",
    "\n",
    "#load the nodes and translate\n",
    "nods = np.genfromtxt(fl+'.1.node',skip_header=1,skip_footer=1)\n",
    "trn = np.loadtxt(fl+'.trn')\n",
    "nods[:,1] = nods[:,1] + trn[0]\n",
    "nods[:,2] = nods[:,2] + trn[1]\n",
    "nods[:,3] = nods[:,3] + trn[2]\n",
    "nnods = len(nods[:,0])\n",
    "\n",
    "#calculate element centroids\n",
    "mids = np.zeros((nele,3))\n",
    "for i in range(nele):\n",
    "   for j in range(3):\n",
    "      mids[i,j]=0.25*sum(nods[ele[i,1:5]-1,j+1])\n",
    "\n",
    "\n",
    "sig=0.001 + np.zeros((nele,1)) # allocate a vector of conductivities\n",
    "\n",
    "#zt is the top of the dipping plane at this centroids x-value\n",
    "zt=.25*mids[:,0] - 1.75\n",
    "\n",
    "#zb is the bottom of the dipping plane at this centroids x-value\n",
    "zb=.25*mids[:,0] - 2.25\n",
    "\n",
    "#Check each element to determine if the centroid is within the \n",
    "#dipping plane, and if so set the conductivity to 0.01 S/m.\n",
    "for i in range(nele):\n",
    "  #if the z-value of this centroid is between the top and bottom\n",
    "  #of the dipping plane set the value to 0.01 S/m.\n",
    "  if (mids[i,2]<=zt[i] and mids[i,2]>=zb[i]):\n",
    "     sig[i]=0.01\n",
    "\n",
    "fn='mbsl_truesig.sig'\n",
    "np.savetxt(fn,sig,newline='\\n',fmt='%-10.5e',header=str(nele)+' 1',comments='')\n",
    "print ('Sigma file written')\n",
    "\n",
    "# add this to the existing xdmf file for viewing in ViSit\n",
    "cmd='px -af ' + pre + ' ' + fn + ' mbsl 1'\n",
    "subprocess.run(cmd, shell=True,stdout=subprocess.PIPE)\n",
    "output=result.stdout.decode(\"utf-8\") \n",
    "\n",
    "lines=output.split(sep='\\n')\n",
    "cont=False\n",
    "for line in lines:\n",
    "        #print (line)\n",
    "        if 'Finished build' in line:\n",
    "            print ('Xdmf rebuild okay')\n",
    "            cont=True\n"
   ]
  },
  {
   "cell_type": "code",
   "execution_count": 24,
   "metadata": {},
   "outputs": [
    {
     "name": "stdout",
     "output_type": "stream",
     "text": [
      "Simulated file written!\n"
     ]
    }
   ],
   "source": [
    "#3) Run the forward model\n",
    "\n",
    "import subprocess\n",
    "\n",
    "# DEPENDING ON THE NUMBER OF PROCESSORS AVAILABLE, THIS CODE COULD TAKE UP TO 20 MINUTES TO RUN\n",
    "# DUE TO THE TIME IT WILL TAKE TO PROCESS THIS CODE,\n",
    "# IT IS HIGHLY RECOMMENDED TO ONLY RUN THIS BLOCK OF CODE BY SELECTING SHIFT-ENTER\n",
    "\n",
    "fileN='e4d.inp'\n",
    "f1=open(fileN, 'w')\n",
    "f1.write(\"ERT2\\n\")            # run mode ERT2\n",
    "f1.write(pre+\".1.ele\\n\")      # mesh element file \n",
    "f1.write(pre+\".srv\\n\")           # survey file - use analytic survey file from analytic solution\n",
    "f1.write(pre+\"_truesig.sig\\n\")        # conductivity file\n",
    "f1.write(pre+\".out\\n\")        # output options, produces a potential file\n",
    "f1.close()\n",
    "\n",
    "cmd='mpirun -np 10 e4d' # assumes mpirun and e4d are in your path\n",
    "result = subprocess.run(cmd, shell=True,stdout=subprocess.PIPE)\n",
    "output=result.stdout.decode(\"utf-8\") \n",
    "\n",
    "lines=output.split(sep='\\n')\n",
    "finished=False\n",
    "for line in lines:\n",
    "        #print (line)\n",
    "        if 'WRITING SIMULATED SURVEY FILE' in line:\n",
    "            print ('Simulated file written!') \n",
    "            finished=True\n",
    "\n",
    "if not finished:\n",
    "    print ('Forward model error: check e4d.log')\n",
    "\n",
    "# rename file \n",
    "cmd='mv mbsl_truesig.sig.srv mbsl_dipping_plane.srv' # assumes mpirun and e4d are in your path\n",
    "result = subprocess.run(cmd, shell=True,stdout=subprocess.PIPE)\n",
    "\n"
   ]
  },
  {
   "cell_type": "code",
   "execution_count": 23,
   "metadata": {},
   "outputs": [
    {
     "name": "stdout",
     "output_type": "stream",
     "text": [
      "Inverse mesh build okay\n"
     ]
    }
   ],
   "source": [
    "# 1) Create the inverse modeling mesh\n",
    "import subprocess\n",
    "import os\n",
    "import sys\n",
    "\n",
    "# create e4d.inp file to build the mesh\n",
    "pre='mbsl'\n",
    "\n",
    "fileN='e4d.inp'\n",
    "f1=open(fileN, 'w')\n",
    "f1.write(\"ERT1\\n\")    # run mode ERT1\n",
    "f1.write(pre+\"_inv.cfg\\n\") # mesh configuration file\n",
    "f1.close()\n",
    "\n",
    "\n",
    "cmd='mpirun -np 1 e4d' # assumes mpirun and e4d are in your path\n",
    "result = subprocess.run(cmd, shell=True,stdout=subprocess.PIPE)\n",
    "output=result.stdout.decode(\"utf-8\") \n",
    "\n",
    "lines=output.split(sep='\\n')\n",
    "cont=False\n",
    "for line in lines:\n",
    "        #print (line)\n",
    "        if 'Finished build' in line:\n",
    "            print ('Inverse mesh build okay')\n",
    "            cont=True"
   ]
  },
  {
   "cell_type": "code",
   "execution_count": 1,
   "metadata": {},
   "outputs": [
    {
     "ename": "NameError",
     "evalue": "name 'subprocess' is not defined",
     "output_type": "error",
     "traceback": [
      "\u001b[0;31m---------------------------------------------------------------------------\u001b[0m",
      "\u001b[0;31mNameError\u001b[0m                                 Traceback (most recent call last)",
      "\u001b[0;32m<ipython-input-1-f1f6b49cebe3>\u001b[0m in \u001b[0;36m<module>\u001b[0;34m\u001b[0m\n\u001b[1;32m     22\u001b[0m \u001b[0;34m\u001b[0m\u001b[0m\n\u001b[1;32m     23\u001b[0m \u001b[0mcmd\u001b[0m\u001b[0;34m=\u001b[0m\u001b[0;34m'mpirun -np 20 e4d'\u001b[0m \u001b[0;31m# assumes mpirun and e4d are in your path\u001b[0m\u001b[0;34m\u001b[0m\u001b[0;34m\u001b[0m\u001b[0m\n\u001b[0;32m---> 24\u001b[0;31m \u001b[0mresult\u001b[0m \u001b[0;34m=\u001b[0m \u001b[0msubprocess\u001b[0m\u001b[0;34m.\u001b[0m\u001b[0mrun\u001b[0m\u001b[0;34m(\u001b[0m\u001b[0mcmd\u001b[0m\u001b[0;34m,\u001b[0m \u001b[0mshell\u001b[0m\u001b[0;34m=\u001b[0m\u001b[0;32mTrue\u001b[0m\u001b[0;34m,\u001b[0m\u001b[0mstdout\u001b[0m\u001b[0;34m=\u001b[0m\u001b[0msubprocess\u001b[0m\u001b[0;34m.\u001b[0m\u001b[0mPIPE\u001b[0m\u001b[0;34m)\u001b[0m\u001b[0;34m\u001b[0m\u001b[0;34m\u001b[0m\u001b[0m\n\u001b[0m\u001b[1;32m     25\u001b[0m \u001b[0moutput\u001b[0m\u001b[0;34m=\u001b[0m\u001b[0mresult\u001b[0m\u001b[0;34m.\u001b[0m\u001b[0mstdout\u001b[0m\u001b[0;34m.\u001b[0m\u001b[0mdecode\u001b[0m\u001b[0;34m(\u001b[0m\u001b[0;34m\"utf-8\"\u001b[0m\u001b[0;34m)\u001b[0m\u001b[0;34m\u001b[0m\u001b[0;34m\u001b[0m\u001b[0m\n\u001b[1;32m     26\u001b[0m \u001b[0;34m\u001b[0m\u001b[0m\n",
      "\u001b[0;31mNameError\u001b[0m: name 'subprocess' is not defined"
     ]
    }
   ],
   "source": [
    "# DEPENDING ON THE NUMBER OF PROCESSORS AVAILABLE, THIS CODE COULD TAKE UP TO 20 MINUTES TO RUN\n",
    "\n",
    "# DUE TO THE TIME IT WILL TAKE TO PROCESS THIS CODE,\n",
    "# IT IS HIGHLY RECOMMENDED TO ONLY RUN THIS BLOCK OF CODE BY SELECTING SHIFT-ENTER\n",
    "\n",
    "# check e4d.log for updates\n",
    "#3) Repeat for other inversion option files.\n",
    "import subprocess\n",
    "dir_out='inv_1'\n",
    "pre='mbsl'\n",
    "\n",
    "\n",
    "fileN='e4d.inp'\n",
    "f1=open(fileN, 'w')\n",
    "f1.write(\"ERT3\\n\")            # run mode ERT3\n",
    "f1.write(pre+\"_inv.1.ele\\n\")      # mesh element file \n",
    "f1.write(pre+\"_dipping_plane.srv\\n\")        # survey file - use analytic survey file from analytic solution\n",
    "f1.write(\"0.001\\n\")           # starting conductivity \n",
    "f1.write(pre+\".out\\n\")     # output options\n",
    "f1.write(pre+\"_1.inv\\n\")     # inverse options\n",
    "f1.write(\"none\\n\")            # reference model file\n",
    "f1.close()\n",
    "\n",
    "cmd='mpirun -np 20 e4d' # assumes mpirun and e4d are in your path\n",
    "result = subprocess.run(cmd, shell=True,stdout=subprocess.PIPE)\n",
    "output=result.stdout.decode(\"utf-8\") \n",
    "\n",
    "lines=output.split(sep='\\n')\n",
    "for line in lines:\n",
    "        if 'COMPUTING J_TRANS_J' in line:\n",
    "            print ('Inv_1 completed')\n",
    "                \n",
    "\n",
    "# move files to a subdirectory\n",
    "cmd='mkdir '+ dir_out\n",
    "subprocess.run(cmd, shell=True,stdout=subprocess.PIPE)\n",
    "\n",
    "cmd='mv sigma.* '+ dir_out + '/.' \n",
    "subprocess.run(cmd, shell=True,stdout=subprocess.PIPE)\n",
    "\n",
    "cmd='mv e4d.log  '+ dir_out + '/.'  \n",
    "subprocess.run(cmd, shell=True,stdout=subprocess.PIPE)\n",
    "\n",
    "cmd='mv mbsl.dpd '+ dir_out + '/.'  \n",
    "subprocess.run(cmd, shell=True,stdout=subprocess.PIPE)\n",
    "\n",
    "cmd='mv sensitivity.txt  '+ dir_out + '/.'  \n",
    "subprocess.run(cmd, shell=True,stdout=subprocess.PIPE)"
   ]
  },
  {
   "cell_type": "code",
   "execution_count": null,
   "metadata": {},
   "outputs": [],
   "source": []
  }
 ],
 "metadata": {
  "kernelspec": {
   "display_name": "Python 3",
   "language": "python",
   "name": "python3"
  }
 },
 "nbformat": 4,
 "nbformat_minor": 2
}
