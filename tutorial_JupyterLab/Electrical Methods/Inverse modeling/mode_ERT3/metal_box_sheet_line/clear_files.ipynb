{
 "cells": [
  {
   "cell_type": "code",
   "execution_count": 7,
   "metadata": {},
   "outputs": [
    {
     "name": "stdout",
     "output_type": "stream",
     "text": [
      "rm mbsl_inv.*\n"
     ]
    },
    {
     "data": {
      "text/plain": [
       "CompletedProcess(args='rm -r inv_1', returncode=1, stdout=b'')"
      ]
     },
     "execution_count": 7,
     "metadata": {},
     "output_type": "execute_result"
    }
   ],
   "source": [
    "import subprocess\n",
    "\n",
    "pre='mbsl'\n",
    "\n",
    "cmd='rm surface*' \n",
    "subprocess.run(cmd, shell=True,stdout=subprocess.PIPE)\n",
    "cmd='rm '+pre+'.1*' \n",
    "subprocess.run(cmd, shell=True,stdout=subprocess.PIPE)\n",
    "cmd='rm '+pre+'.trn*' \n",
    "subprocess.run(cmd, shell=True,stdout=subprocess.PIPE)\n",
    "cmd='rm '+pre+'.sig' \n",
    "subprocess.run(cmd, shell=True,stdout=subprocess.PIPE)\n",
    "cmd='rm '+pre+'.xmf' \n",
    "subprocess.run(cmd, shell=True,stdout=subprocess.PIPE)\n",
    "cmd='rm '+pre+'.h5' \n",
    "subprocess.run(cmd, shell=True,stdout=subprocess.PIPE)\n",
    "cmd='rm mesh_build.log' \n",
    "subprocess.run(cmd, shell=True,stdout=subprocess.PIPE)\n",
    "cmd='rm run_time.txt' \n",
    "subprocess.run(cmd, shell=True,stdout=subprocess.PIPE)\n",
    "cmd='rm external_files.tmp' \n",
    "subprocess.run(cmd, shell=True,stdout=subprocess.PIPE)\n",
    "cmd='rm jaco_build_sequence.txt' \n",
    "subprocess.run(cmd, shell=True,stdout=subprocess.PIPE)\n",
    "cmd='rm *poly*' \n",
    "subprocess.run(cmd, shell=True,stdout=subprocess.PIPE)\n",
    "cmd='sigma.*' \n",
    "subprocess.run(cmd, shell=True,stdout=subprocess.PIPE)\n",
    "cmd='rm '+pre+'_inv.*' \n",
    "subprocess.run(cmd, shell=True,stdout=subprocess.PIPE)\n",
    "\n",
    "cmd='rm e4d.log' \n",
    "subprocess.run(cmd, shell=True,stdout=subprocess.PIPE)\n",
    "\n",
    "cmd='rm -r inv_1' \n",
    "subprocess.run(cmd, shell=True,stdout=subprocess.PIPE)\n",
    "\n"
   ]
  },
  {
   "cell_type": "code",
   "execution_count": null,
   "metadata": {},
   "outputs": [],
   "source": []
  }
 ],
 "metadata": {
  "kernelspec": {
   "display_name": "Python 3",
   "language": "python",
   "name": "python3"
  },
  "language_info": {
   "codemirror_mode": {
    "name": "ipython",
    "version": 3
   },
   "file_extension": ".py",
   "mimetype": "text/x-python",
   "name": "python",
   "nbconvert_exporter": "python",
   "pygments_lexer": "ipython3",
   "version": "3.7.3"
  }
 },
 "nbformat": 4,
 "nbformat_minor": 2
}
