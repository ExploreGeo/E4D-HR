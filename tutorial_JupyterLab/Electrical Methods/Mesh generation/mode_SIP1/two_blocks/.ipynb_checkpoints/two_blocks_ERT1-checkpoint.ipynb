{
 "cells": [
  {
   "cell_type": "markdown",
   "metadata": {},
   "source": [
    "# ER Mesh Generation\n",
    "## Run mode: ERT1    Two Buried Blocks\n",
    "In this example, a mesh is comprised of surface electrodes, two subsurface boxes, a foreground zone defined for convenient visualization, and a boundary zone that extends from the foreground zone to the external boundaries. \n",
    "\n",
    "A conceptual diagram of the mesh, including control points and zone assignments to be defined in the mesh configuration file, is shown in Figure ME1. The mesh consists of three lines of surface electrodes (visit/electrodes.txt), where line 1 includes control points 1 through 16, line 2 includes control points 17 through 32, and line 3 includes control points 33 through 48. \n",
    "Control points 49 through 52 and 57 through 60 define the foreground region, which is assigned to be zone 1. Control points 61 through 68 define the western-most box, which is assigned to be zone 2. Control points 69 through 76 define the eastern-most box, which is assigned to be zone 3. The region extending from the foreground to the outer boundaries is not shown, but is assigned to be zone 4.  The mesh configuration file for Figure ME1 (two_blocks.cfg) is shown below with annotations denoting the corresponding mesh configuration file variables described above.  "
   ]
  },
  {
   "cell_type": "code",
   "execution_count": 1,
   "metadata": {},
   "outputs": [
    {
     "ename": "TypeError",
     "evalue": "a bytes-like object is required, not 'str'",
     "output_type": "error",
     "traceback": [
      "\u001b[0;31m---------------------------------------------------------------------------\u001b[0m",
      "\u001b[0;31mTypeError\u001b[0m                                 Traceback (most recent call last)",
      "\u001b[0;32m~/anaconda3/lib/python3.7/site-packages/IPython/core/formatters.py\u001b[0m in \u001b[0;36m__call__\u001b[0;34m(self, obj, include, exclude)\u001b[0m\n\u001b[1;32m    968\u001b[0m \u001b[0;34m\u001b[0m\u001b[0m\n\u001b[1;32m    969\u001b[0m             \u001b[0;32mif\u001b[0m \u001b[0mmethod\u001b[0m \u001b[0;32mis\u001b[0m \u001b[0;32mnot\u001b[0m \u001b[0;32mNone\u001b[0m\u001b[0;34m:\u001b[0m\u001b[0;34m\u001b[0m\u001b[0;34m\u001b[0m\u001b[0m\n\u001b[0;32m--> 970\u001b[0;31m                 \u001b[0;32mreturn\u001b[0m \u001b[0mmethod\u001b[0m\u001b[0;34m(\u001b[0m\u001b[0minclude\u001b[0m\u001b[0;34m=\u001b[0m\u001b[0minclude\u001b[0m\u001b[0;34m,\u001b[0m \u001b[0mexclude\u001b[0m\u001b[0;34m=\u001b[0m\u001b[0mexclude\u001b[0m\u001b[0;34m)\u001b[0m\u001b[0;34m\u001b[0m\u001b[0;34m\u001b[0m\u001b[0m\n\u001b[0m\u001b[1;32m    971\u001b[0m             \u001b[0;32mreturn\u001b[0m \u001b[0;32mNone\u001b[0m\u001b[0;34m\u001b[0m\u001b[0;34m\u001b[0m\u001b[0m\n\u001b[1;32m    972\u001b[0m         \u001b[0;32melse\u001b[0m\u001b[0;34m:\u001b[0m\u001b[0;34m\u001b[0m\u001b[0;34m\u001b[0m\u001b[0m\n",
      "\u001b[0;32m~/anaconda3/lib/python3.7/site-packages/IPython/core/display.py\u001b[0m in \u001b[0;36m_repr_mimebundle_\u001b[0;34m(self, include, exclude)\u001b[0m\n\u001b[1;32m   1242\u001b[0m         \u001b[0;32mif\u001b[0m \u001b[0mself\u001b[0m\u001b[0;34m.\u001b[0m\u001b[0membed\u001b[0m\u001b[0;34m:\u001b[0m\u001b[0;34m\u001b[0m\u001b[0;34m\u001b[0m\u001b[0m\n\u001b[1;32m   1243\u001b[0m             \u001b[0mmimetype\u001b[0m \u001b[0;34m=\u001b[0m \u001b[0mself\u001b[0m\u001b[0;34m.\u001b[0m\u001b[0m_mimetype\u001b[0m\u001b[0;34m\u001b[0m\u001b[0;34m\u001b[0m\u001b[0m\n\u001b[0;32m-> 1244\u001b[0;31m             \u001b[0mdata\u001b[0m\u001b[0;34m,\u001b[0m \u001b[0mmetadata\u001b[0m \u001b[0;34m=\u001b[0m \u001b[0mself\u001b[0m\u001b[0;34m.\u001b[0m\u001b[0m_data_and_metadata\u001b[0m\u001b[0;34m(\u001b[0m\u001b[0malways_both\u001b[0m\u001b[0;34m=\u001b[0m\u001b[0;32mTrue\u001b[0m\u001b[0;34m)\u001b[0m\u001b[0;34m\u001b[0m\u001b[0;34m\u001b[0m\u001b[0m\n\u001b[0m\u001b[1;32m   1245\u001b[0m             \u001b[0;32mif\u001b[0m \u001b[0mmetadata\u001b[0m\u001b[0;34m:\u001b[0m\u001b[0;34m\u001b[0m\u001b[0;34m\u001b[0m\u001b[0m\n\u001b[1;32m   1246\u001b[0m                 \u001b[0mmetadata\u001b[0m \u001b[0;34m=\u001b[0m \u001b[0;34m{\u001b[0m\u001b[0mmimetype\u001b[0m\u001b[0;34m:\u001b[0m \u001b[0mmetadata\u001b[0m\u001b[0;34m}\u001b[0m\u001b[0;34m\u001b[0m\u001b[0;34m\u001b[0m\u001b[0m\n",
      "\u001b[0;32m~/anaconda3/lib/python3.7/site-packages/IPython/core/display.py\u001b[0m in \u001b[0;36m_data_and_metadata\u001b[0;34m(self, always_both)\u001b[0m\n\u001b[1;32m   1251\u001b[0m     \u001b[0;32mdef\u001b[0m \u001b[0m_data_and_metadata\u001b[0m\u001b[0;34m(\u001b[0m\u001b[0mself\u001b[0m\u001b[0;34m,\u001b[0m \u001b[0malways_both\u001b[0m\u001b[0;34m=\u001b[0m\u001b[0;32mFalse\u001b[0m\u001b[0;34m)\u001b[0m\u001b[0;34m:\u001b[0m\u001b[0;34m\u001b[0m\u001b[0;34m\u001b[0m\u001b[0m\n\u001b[1;32m   1252\u001b[0m         \u001b[0;34m\"\"\"shortcut for returning metadata with shape information, if defined\"\"\"\u001b[0m\u001b[0;34m\u001b[0m\u001b[0;34m\u001b[0m\u001b[0m\n\u001b[0;32m-> 1253\u001b[0;31m         \u001b[0mb64_data\u001b[0m \u001b[0;34m=\u001b[0m \u001b[0mb2a_base64\u001b[0m\u001b[0;34m(\u001b[0m\u001b[0mself\u001b[0m\u001b[0;34m.\u001b[0m\u001b[0mdata\u001b[0m\u001b[0;34m)\u001b[0m\u001b[0;34m.\u001b[0m\u001b[0mdecode\u001b[0m\u001b[0;34m(\u001b[0m\u001b[0;34m'ascii'\u001b[0m\u001b[0;34m)\u001b[0m\u001b[0;34m\u001b[0m\u001b[0;34m\u001b[0m\u001b[0m\n\u001b[0m\u001b[1;32m   1254\u001b[0m         \u001b[0mmd\u001b[0m \u001b[0;34m=\u001b[0m \u001b[0;34m{\u001b[0m\u001b[0;34m}\u001b[0m\u001b[0;34m\u001b[0m\u001b[0;34m\u001b[0m\u001b[0m\n\u001b[1;32m   1255\u001b[0m         \u001b[0;32mif\u001b[0m \u001b[0mself\u001b[0m\u001b[0;34m.\u001b[0m\u001b[0mmetadata\u001b[0m\u001b[0;34m:\u001b[0m\u001b[0;34m\u001b[0m\u001b[0;34m\u001b[0m\u001b[0m\n",
      "\u001b[0;31mTypeError\u001b[0m: a bytes-like object is required, not 'str'"
     ]
    },
    {
     "ename": "TypeError",
     "evalue": "a bytes-like object is required, not 'str'",
     "output_type": "error",
     "traceback": [
      "\u001b[0;31m---------------------------------------------------------------------------\u001b[0m",
      "\u001b[0;31mTypeError\u001b[0m                                 Traceback (most recent call last)",
      "\u001b[0;32m~/anaconda3/lib/python3.7/site-packages/IPython/core/formatters.py\u001b[0m in \u001b[0;36m__call__\u001b[0;34m(self, obj)\u001b[0m\n\u001b[1;32m    343\u001b[0m             \u001b[0mmethod\u001b[0m \u001b[0;34m=\u001b[0m \u001b[0mget_real_method\u001b[0m\u001b[0;34m(\u001b[0m\u001b[0mobj\u001b[0m\u001b[0;34m,\u001b[0m \u001b[0mself\u001b[0m\u001b[0;34m.\u001b[0m\u001b[0mprint_method\u001b[0m\u001b[0;34m)\u001b[0m\u001b[0;34m\u001b[0m\u001b[0;34m\u001b[0m\u001b[0m\n\u001b[1;32m    344\u001b[0m             \u001b[0;32mif\u001b[0m \u001b[0mmethod\u001b[0m \u001b[0;32mis\u001b[0m \u001b[0;32mnot\u001b[0m \u001b[0;32mNone\u001b[0m\u001b[0;34m:\u001b[0m\u001b[0;34m\u001b[0m\u001b[0;34m\u001b[0m\u001b[0m\n\u001b[0;32m--> 345\u001b[0;31m                 \u001b[0;32mreturn\u001b[0m \u001b[0mmethod\u001b[0m\u001b[0;34m(\u001b[0m\u001b[0;34m)\u001b[0m\u001b[0;34m\u001b[0m\u001b[0;34m\u001b[0m\u001b[0m\n\u001b[0m\u001b[1;32m    346\u001b[0m             \u001b[0;32mreturn\u001b[0m \u001b[0;32mNone\u001b[0m\u001b[0;34m\u001b[0m\u001b[0;34m\u001b[0m\u001b[0m\n\u001b[1;32m    347\u001b[0m         \u001b[0;32melse\u001b[0m\u001b[0;34m:\u001b[0m\u001b[0;34m\u001b[0m\u001b[0;34m\u001b[0m\u001b[0m\n",
      "\u001b[0;32m~/anaconda3/lib/python3.7/site-packages/IPython/core/display.py\u001b[0m in \u001b[0;36m_repr_png_\u001b[0;34m(self)\u001b[0m\n\u001b[1;32m   1268\u001b[0m     \u001b[0;32mdef\u001b[0m \u001b[0m_repr_png_\u001b[0m\u001b[0;34m(\u001b[0m\u001b[0mself\u001b[0m\u001b[0;34m)\u001b[0m\u001b[0;34m:\u001b[0m\u001b[0;34m\u001b[0m\u001b[0;34m\u001b[0m\u001b[0m\n\u001b[1;32m   1269\u001b[0m         \u001b[0;32mif\u001b[0m \u001b[0mself\u001b[0m\u001b[0;34m.\u001b[0m\u001b[0membed\u001b[0m \u001b[0;32mand\u001b[0m \u001b[0mself\u001b[0m\u001b[0;34m.\u001b[0m\u001b[0mformat\u001b[0m \u001b[0;34m==\u001b[0m \u001b[0mself\u001b[0m\u001b[0;34m.\u001b[0m\u001b[0m_FMT_PNG\u001b[0m\u001b[0;34m:\u001b[0m\u001b[0;34m\u001b[0m\u001b[0;34m\u001b[0m\u001b[0m\n\u001b[0;32m-> 1270\u001b[0;31m             \u001b[0;32mreturn\u001b[0m \u001b[0mself\u001b[0m\u001b[0;34m.\u001b[0m\u001b[0m_data_and_metadata\u001b[0m\u001b[0;34m(\u001b[0m\u001b[0;34m)\u001b[0m\u001b[0;34m\u001b[0m\u001b[0;34m\u001b[0m\u001b[0m\n\u001b[0m\u001b[1;32m   1271\u001b[0m \u001b[0;34m\u001b[0m\u001b[0m\n\u001b[1;32m   1272\u001b[0m     \u001b[0;32mdef\u001b[0m \u001b[0m_repr_jpeg_\u001b[0m\u001b[0;34m(\u001b[0m\u001b[0mself\u001b[0m\u001b[0;34m)\u001b[0m\u001b[0;34m:\u001b[0m\u001b[0;34m\u001b[0m\u001b[0;34m\u001b[0m\u001b[0m\n",
      "\u001b[0;32m~/anaconda3/lib/python3.7/site-packages/IPython/core/display.py\u001b[0m in \u001b[0;36m_data_and_metadata\u001b[0;34m(self, always_both)\u001b[0m\n\u001b[1;32m   1251\u001b[0m     \u001b[0;32mdef\u001b[0m \u001b[0m_data_and_metadata\u001b[0m\u001b[0;34m(\u001b[0m\u001b[0mself\u001b[0m\u001b[0;34m,\u001b[0m \u001b[0malways_both\u001b[0m\u001b[0;34m=\u001b[0m\u001b[0;32mFalse\u001b[0m\u001b[0;34m)\u001b[0m\u001b[0;34m:\u001b[0m\u001b[0;34m\u001b[0m\u001b[0;34m\u001b[0m\u001b[0m\n\u001b[1;32m   1252\u001b[0m         \u001b[0;34m\"\"\"shortcut for returning metadata with shape information, if defined\"\"\"\u001b[0m\u001b[0;34m\u001b[0m\u001b[0;34m\u001b[0m\u001b[0m\n\u001b[0;32m-> 1253\u001b[0;31m         \u001b[0mb64_data\u001b[0m \u001b[0;34m=\u001b[0m \u001b[0mb2a_base64\u001b[0m\u001b[0;34m(\u001b[0m\u001b[0mself\u001b[0m\u001b[0;34m.\u001b[0m\u001b[0mdata\u001b[0m\u001b[0;34m)\u001b[0m\u001b[0;34m.\u001b[0m\u001b[0mdecode\u001b[0m\u001b[0;34m(\u001b[0m\u001b[0;34m'ascii'\u001b[0m\u001b[0;34m)\u001b[0m\u001b[0;34m\u001b[0m\u001b[0;34m\u001b[0m\u001b[0m\n\u001b[0m\u001b[1;32m   1254\u001b[0m         \u001b[0mmd\u001b[0m \u001b[0;34m=\u001b[0m \u001b[0;34m{\u001b[0m\u001b[0;34m}\u001b[0m\u001b[0;34m\u001b[0m\u001b[0;34m\u001b[0m\u001b[0m\n\u001b[1;32m   1255\u001b[0m         \u001b[0;32mif\u001b[0m \u001b[0mself\u001b[0m\u001b[0;34m.\u001b[0m\u001b[0mmetadata\u001b[0m\u001b[0;34m:\u001b[0m\u001b[0;34m\u001b[0m\u001b[0;34m\u001b[0m\u001b[0m\n",
      "\u001b[0;31mTypeError\u001b[0m: a bytes-like object is required, not 'str'"
     ]
    },
    {
     "data": {
      "text/plain": [
       "<IPython.core.display.Image object>"
      ]
     },
     "execution_count": 1,
     "metadata": {},
     "output_type": "execute_result"
    }
   ],
   "source": [
    "from IPython.display import Image\n",
    "Image(\"visit/Figure_ME1.png\")"
   ]
  },
  {
   "cell_type": "code",
   "execution_count": 15,
   "metadata": {},
   "outputs": [
    {
     "name": "stdout",
     "output_type": "stream",
     "text": [
      "\n",
      " ************************ WELCOME TO E4D ************************\n",
      " Copyright © 2014, Battelle Memorial Institute\n",
      " All rights reserved.\n",
      " Current date:  August 08, 2019\n",
      " Current time:  12:21:45\n",
      " Running on 0000001 processing cores\n",
      " Please refer to e4d.log for further logging information ...\n",
      " ****************************************************************\n",
      " Calling Triangle\n",
      "Opening surface.poly.\n",
      "Constructing Delaunay triangulation by divide-and-conquer method.\n",
      "Delaunay milliseconds:  0\n",
      "Recovering segments in Delaunay triangulation.\n",
      "Segment milliseconds:  0\n",
      "Removing unwanted triangles.\n",
      "Hole milliseconds:  0\n",
      "Adding Steiner points to enforce quality.\n",
      "Quality milliseconds:  3\n",
      "\n",
      "Writing surface.1.node.\n",
      "Writing surface.1.ele.\n",
      "Writing surface.1.poly.\n",
      "Writing surface.1.edge.\n",
      "Writing surface.1.neigh.\n",
      "\n",
      "Output milliseconds:  6\n",
      "Total running milliseconds:  9\n",
      "\n",
      "Statistics:\n",
      "\n",
      "  Input vertices: 56\n",
      "  Input segments: 8\n",
      "  Input holes: 0\n",
      "\n",
      "  Mesh vertices: 461\n",
      "  Mesh triangles: 902\n",
      "  Mesh edges: 1362\n",
      "  Mesh exterior boundary edges: 18\n",
      "  Mesh interior boundary edges: 56\n",
      "  Mesh subsegments (constrained edges): 74\n",
      "\n",
      " DONE WITH SURFACE TRIANGULATION\n",
      " BEGIN CONSTRUCTING TETGEN INPUT .poly FILE\n",
      " DONE BUILDING two_blocks.poly\n",
      "     CALLING TETGEN         \n",
      " tetgen -pnq1.3a1e12aAA two_blocks.poly\n",
      "Opening two_blocks.poly.\n",
      "Delaunizing vertices...\n",
      "Delaunay seconds:  0.008526\n",
      "Creating surface mesh ...\n",
      "Surface mesh seconds:  0.002919\n",
      "Constrained Delaunay...\n",
      "Constrained Delaunay seconds:  0.001611\n",
      "Removing exterior tetrahedra ...\n",
      "Spreading region attributes.\n",
      "Exterior tets removal seconds:  0.000384\n",
      "Refining mesh...\n",
      "Refinement seconds:  0.475702\n",
      "Optimizing mesh...\n",
      "Optimization seconds:  0.02916\n",
      "\n",
      "Writing two_blocks.1.node.\n",
      "Writing two_blocks.1.ele.\n",
      "Writing two_blocks.1.face.\n",
      "Writing two_blocks.1.edge.\n",
      "Writing two_blocks.1.neigh.\n",
      "\n",
      "Output seconds:  0.189125\n",
      "Total running seconds:  0.707624\n",
      "\n",
      "Statistics:\n",
      "\n",
      "  Input points: 547\n",
      "  Input facets: 938\n",
      "  Input segments: 128\n",
      "  Input holes: 0\n",
      "  Input regions: 4\n",
      "\n",
      "  Mesh points: 18387\n",
      "  Mesh tetrahedra: 105040\n",
      "  Mesh faces: 213417\n",
      "  Mesh faces on facets: 14016\n",
      "  Mesh edges on segments: 574\n",
      "  Steiner points inside domain: 11394\n",
      "  Steiner points on facets:  6000\n",
      "  Steiner points on segments:  446\n",
      "\n",
      " Checking node boundary flags\n",
      " BUILDING two_blocks.sig\n",
      " Build the xmf/h5 files using: two_blocks.\n",
      " px -f two_blocks two_blocks.sig two_blocks\n",
      "Creating new xmf and h5 file.....\n",
      "Reading two_blocks.1.node\n",
      "Reading two_blocks.1.ele\n",
      "THE NUMBER OF NODES IS:18387\n",
      "THE NUMBER OF ELEMENTS IS:105040\n",
      "THE NUMBER OF ELEMENT ZONES IS:4\n",
      "Creating two_blocks.h5 file\n",
      "Recording conductivity file two_blocks.sig at time stamp:0\n",
      "Done writing two_blocks.h5 file\n",
      "Finished build of two_blocks.xmf file\n",
      "\n"
     ]
    }
   ],
   "source": [
    "# Run e4d\n",
    "# two_blocks.cfg is defined as the mesh configuation file in e4d.inp\n",
    "import subprocess\n",
    "import os\n",
    "import sys\n",
    "\n",
    "cmd='mpirun -np 1 e4d' # assumes mpirun and e4d are in your path\n",
    "result = subprocess.run(cmd, shell=True,stdout=subprocess.PIPE)\n",
    "output=result.stdout.decode(\"utf-8\") \n",
    "\n",
    "lines=output.split(sep='\\n')\n",
    "for line in lines:\n",
    "        print (line)\n",
    "        \n",
    "# After running the code the following files should be this directory:\n",
    "# two_blocks.1.ele                  ELEMENT FILE\n",
    "# two_blocks.1.node                 NODE FILE\n",
    "# two_blocks.1.face                 FACE DEFINTION FILE\n",
    "# two_blocks.1.neigh                ELEMENT NEIGHBOR FILE\n",
    "# two_blocks.sig                    CONDUCTIVITY FILE, as defined in regions of .cfg\n",
    "# two_blocks.trn                    TRANSLATION FILE\n",
    "# two_blocks.xmf / two_blocks.h5    px VISUALIZATION FILES, as specified in .cfg\n",
    "\n",
    "# Other files are generated which are not used for other modeling run modes in E4D\n",
    "# such as files with a prefix of surface*, internal tetgen files (.poly),\n",
    "# and an internal e4d file (mesh_build.log)\n",
    "\n"
   ]
  }
 ],
 "metadata": {
  "kernelspec": {
   "display_name": "Python 3",
   "language": "python",
   "name": "python3"
  },
  "language_info": {
   "codemirror_mode": {
    "name": "ipython",
    "version": 3
   },
   "file_extension": ".py",
   "mimetype": "text/x-python",
   "name": "python",
   "nbconvert_exporter": "python",
   "pygments_lexer": "ipython3",
   "version": "3.7.3"
  }
 },
 "nbformat": 4,
 "nbformat_minor": 2
}
