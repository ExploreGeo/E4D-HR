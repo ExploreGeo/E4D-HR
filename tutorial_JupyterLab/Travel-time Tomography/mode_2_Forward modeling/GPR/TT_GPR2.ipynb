{
 "cells": [
  {
   "cell_type": "markdown",
   "metadata": {},
   "source": [
    "# Travel time Tomography (TT) Forward Modeling - Simulating a survey and creating a velocity field file\n",
    "## Run mode: 2    GPR example\n",
    "\n",
    "This example build on the GPR example in Mesh Generation\n",
    "\n",
    "The steps followed below are:   \n",
    "1) Create the mesh  \n",
    "2) Create fmm.inp and run the forward model. The file e4d.inp is not used to run a TT forward model.\n",
    "\n",
    "The output options file creates a velocity file to be viewed in ViSit."
   ]
  },
  {
   "cell_type": "code",
   "execution_count": 1,
   "metadata": {},
   "outputs": [
    {
     "name": "stdout",
     "output_type": "stream",
     "text": [
      "Mesh build okay\n",
      " Running FMM with:           20  processes\n",
      "\n",
      " ************************ WELCOME TO FMM ************************\n",
      " Copyright © 2014, Battelle Memorial Institute\n",
      " All rights reserved.\n",
      " Current date:  December 09, 2019\n",
      " Current time:  08:34:57\n",
      " Running on 0000020 processing cores\n",
      " Please refer to fmm.log for further logging information ...\n",
      " ****************************************************************\n",
      " There was a problem reading the number of zones to include\n",
      " in the forward travel time simulation after the mesh file name.\n",
      " Using all zones.\n",
      "  FMM: EXECUTING FORWARD RUN\n",
      "  WRITING TRAVEL TIME FILES\n",
      "  WRITING SIMULATED SURVEY FILE: 0.1.srv\n",
      "  Forward run complete.\n",
      "\n"
     ]
    }
   ],
   "source": [
    "## 1) Create the mesh\n",
    "# gpr.cfg is defined as the mesh configuation file in e4d.inp\n",
    "import subprocess\n",
    "import os\n",
    "import sys\n",
    "\n",
    "# create e4d.inp file to build the mesh\n",
    "pre='bcd'\n",
    "\n",
    "fileN='e4d.inp'\n",
    "f1=open(fileN, 'w')\n",
    "f1.write(\"1\\n\")    # run mode 1\n",
    "f1.write(pre+\".cfg\\n\") # mesh configuration file\n",
    "f1.close()\n",
    "\n",
    "\n",
    "cmd='mpirun -np 1 e4d' # assumes mpirun and e4d are in your path\n",
    "result = subprocess.run(cmd, shell=True,stdout=subprocess.PIPE)\n",
    "output=result.stdout.decode(\"utf-8\") \n",
    "\n",
    "lines=output.split(sep='\\n')\n",
    "cont=False\n",
    "for line in lines:\n",
    "        #print (line)\n",
    "        if 'Finished build' in line:\n",
    "            print ('Mesh build okay')\n",
    "            cont=True\n",
    "\n",
    "   \n",
    "## 2) Create fmm.inp and run the TT forward model \n",
    "if cont==True:\n",
    "    fileN='fmm.inp'\n",
    "    f2=open(fileN, 'w')\n",
    "    f2.write(\"2\\n\")               # forward run mode 2\n",
    "    f2.write(pre+\".1.ele\\n\")      # mesh element file \n",
    "    f2.write(pre+\".srv\\n\")        # survey file \n",
    "    f2.write(\"0.1\\n\")        # starting velocity file\n",
    "    f2.write(pre+\".out\\n\")        # output options\n",
    "    f2.close()\n",
    "\n",
    "    num_proc=20\n",
    "    # mpirun -np num_proc_total e4d -fmm num_proc_fmm \n",
    "    # num_proc_total is the total number of processors\n",
    "    # num_proc_fmm is the number of processors allocated for TT\n",
    "    # For a TT forward run, there is no ERT inversion taking place so num_proc_total=num_proc_fmm\n",
    "    \n",
    "    cmd='mpirun -np '+str(num_proc)+' e4d -fmm '+str(num_proc) # for a TT run only, allocate the same number of processors to e4d and fmm\n",
    "    \n",
    "    result = subprocess.run(cmd, shell=True,stdout=subprocess.PIPE)\n",
    "    output=result.stdout.decode(\"utf-8\") \n",
    "\n",
    "    lines=output.split(sep='\\n')\n",
    "    for line in lines:\n",
    "            print (line)\n",
    "            if 'WRITING SIMULATED TRAVEL-TIME FILE' in line:\n",
    "                print ('Simulated file written!')\n",
    "                \n"
   ]
  },
  {
   "cell_type": "code",
   "execution_count": 2,
   "metadata": {},
   "outputs": [
    {
     "name": "stdout",
     "output_type": "stream",
     "text": [
      "Creating new xmf and h5 file.....\n",
      "Reading bcd.1.node\n",
      "Reading bcd.1.ele\n",
      "THE NUMBER OF NODES IS:56857\n",
      "THE NUMBER OF ELEMENTS IS:343410\n",
      "THE NUMBER OF ELEMENT ZONES IS:2\n",
      "Creating tt100.h5 file\n",
      "Recording potential file traveltime.100 at time stamp:0\n",
      "Done writing tt100.h5 file\n",
      "Finished build of tt100.xmf file\n",
      "\n"
     ]
    }
   ],
   "source": [
    "# Create potential field visualization files\n",
    "import subprocess\n",
    "\n",
    "cmd='px -f bcd traveltime.100 tt100' # assumes px is in your path\n",
    "result = subprocess.run(cmd, shell=True,stdout=subprocess.PIPE)\n",
    "\n",
    "output=result.stdout.decode(\"utf-8\") \n",
    "\n",
    "lines=output.split(sep='\\n')\n",
    "for line in lines:\n",
    "        print (line)\n",
    "\n",
    "\n",
    "cmd='mv tt100.xmf visit/tt100.xmf' \n",
    "result = subprocess.run(cmd, shell=True,stdout=subprocess.PIPE)\n",
    "\n",
    "cmd='mv tt100.h5 visit/tt100.h5' \n",
    "result = subprocess.run(cmd, shell=True,stdout=subprocess.PIPE)\n",
    "\n"
   ]
  },
  {
   "cell_type": "code",
   "execution_count": null,
   "metadata": {},
   "outputs": [],
   "source": [
    "# view the files in visit\n",
    "import os\n",
    "import subprocess\n",
    "\n",
    "directory=os.getcwd()\n",
    "if 'visit' not in directory:\n",
    "    os.chdir('visit')\n",
    "\n",
    "# get visit full path\n",
    "fn='../../../../Visit_fullpathname'\n",
    "\n",
    "f= open(fn,\"r\")\n",
    "dir_Visit = f.readline().strip() \n",
    "subprocess.run([dir_Visit+'visit' , 'cli', '-s', 'script.py'])\n",
    "\n",
    "os.chdir('../')\n"
   ]
  },
  {
   "cell_type": "code",
   "execution_count": null,
   "metadata": {},
   "outputs": [],
   "source": []
  }
 ],
 "metadata": {
  "kernelspec": {
   "display_name": "Python 3",
   "language": "python",
   "name": "python3"
  },
  "language_info": {
   "codemirror_mode": {
    "name": "ipython",
    "version": 3
   },
   "file_extension": ".py",
   "mimetype": "text/x-python",
   "name": "python",
   "nbconvert_exporter": "python",
   "pygments_lexer": "ipython3",
   "version": "3.7.3"
  }
 },
 "nbformat": 4,
 "nbformat_minor": 2
}
